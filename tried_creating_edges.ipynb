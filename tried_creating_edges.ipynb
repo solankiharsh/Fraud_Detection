{
  "nbformat": 4,
  "nbformat_minor": 0,
  "metadata": {
    "colab": {
      "name": "tried_creating_edges",
      "provenance": [],
      "mount_file_id": "1PS2qZHW_7eUHkQR7V01OU4XDercJ8aV5",
      "authorship_tag": "ABX9TyP93kvcoOT1T30zT6EdCkwN",
      "include_colab_link": true
    },
    "kernelspec": {
      "name": "python3",
      "display_name": "Python 3"
    }
  },
  "cells": [
    {
      "cell_type": "markdown",
      "metadata": {
        "id": "view-in-github",
        "colab_type": "text"
      },
      "source": [
        "<a href=\"https://colab.research.google.com/github/solankiharsh/Fraud_Detection/blob/master/tried_creating_edges.ipynb\" target=\"_parent\"><img src=\"https://colab.research.google.com/assets/colab-badge.svg\" alt=\"Open In Colab\"/></a>"
      ]
    },
    {
      "cell_type": "code",
      "metadata": {
        "id": "EBsYxQYU9xfV",
        "colab_type": "code",
        "colab": {}
      },
      "source": [
        "import argparse\n",
        "import logging\n",
        "import os\n",
        "import pandas as pd\n",
        "import numpy as np\n",
        "from itertools import combinations"
      ],
      "execution_count": 125,
      "outputs": []
    },
    {
      "cell_type": "code",
      "metadata": {
        "id": "-sss8S1pBJxd",
        "colab_type": "code",
        "colab": {}
      },
      "source": [
        "output_dir = '/content/drive/My Drive/Sunlife_ml/Experimenting_Graph/output_dir'"
      ],
      "execution_count": 126,
      "outputs": []
    },
    {
      "cell_type": "code",
      "metadata": {
        "id": "C8VrsA1_Nw5P",
        "colab_type": "code",
        "colab": {
          "base_uri": "https://localhost:8080/",
          "height": 51
        },
        "outputId": "4195bb61-5c79-4908-97bc-ed2a957e2996"
      },
      "source": [
        "transaction_df = pd.read_csv('/content/drive/My Drive/Sunlife_ml/Experimenting_Graph/bs140513_032310.csv')\n",
        "print(\"Shape of transaction data is {}\".format(transaction_df.shape))\n",
        "print(\"# Tagged transactions: {}\".format(len(transaction_df) - transaction_df.fraud.isnull().sum()))"
      ],
      "execution_count": 127,
      "outputs": [
        {
          "output_type": "stream",
          "text": [
            "Shape of transaction data is (594643, 9)\n",
            "# Tagged transactions: 594643\n"
          ],
          "name": "stdout"
        }
      ]
    },
    {
      "cell_type": "code",
      "metadata": {
        "id": "4WQknkvVOTIw",
        "colab_type": "code",
        "colab": {
          "base_uri": "https://localhost:8080/",
          "height": 204
        },
        "outputId": "54ffd62f-2762-4036-f733-5641483adce3"
      },
      "source": [
        "transaction_df.head()"
      ],
      "execution_count": 128,
      "outputs": [
        {
          "output_type": "execute_result",
          "data": {
            "text/html": [
              "<div>\n",
              "<style scoped>\n",
              "    .dataframe tbody tr th:only-of-type {\n",
              "        vertical-align: middle;\n",
              "    }\n",
              "\n",
              "    .dataframe tbody tr th {\n",
              "        vertical-align: top;\n",
              "    }\n",
              "\n",
              "    .dataframe thead th {\n",
              "        text-align: right;\n",
              "    }\n",
              "</style>\n",
              "<table border=\"1\" class=\"dataframe\">\n",
              "  <thead>\n",
              "    <tr style=\"text-align: right;\">\n",
              "      <th></th>\n",
              "      <th>customer</th>\n",
              "      <th>age</th>\n",
              "      <th>gender</th>\n",
              "      <th>zipcodeOri</th>\n",
              "      <th>merchant</th>\n",
              "      <th>zipMerchant</th>\n",
              "      <th>category</th>\n",
              "      <th>amount</th>\n",
              "      <th>fraud</th>\n",
              "    </tr>\n",
              "  </thead>\n",
              "  <tbody>\n",
              "    <tr>\n",
              "      <th>0</th>\n",
              "      <td>'C1093826151'</td>\n",
              "      <td>'4'</td>\n",
              "      <td>'M'</td>\n",
              "      <td>'28007'</td>\n",
              "      <td>'M348934600'</td>\n",
              "      <td>'28007'</td>\n",
              "      <td>'es_transportation'</td>\n",
              "      <td>4.55</td>\n",
              "      <td>0</td>\n",
              "    </tr>\n",
              "    <tr>\n",
              "      <th>1</th>\n",
              "      <td>'C352968107'</td>\n",
              "      <td>'2'</td>\n",
              "      <td>'M'</td>\n",
              "      <td>'28007'</td>\n",
              "      <td>'M348934600'</td>\n",
              "      <td>'28007'</td>\n",
              "      <td>'es_transportation'</td>\n",
              "      <td>39.68</td>\n",
              "      <td>0</td>\n",
              "    </tr>\n",
              "    <tr>\n",
              "      <th>2</th>\n",
              "      <td>'C2054744914'</td>\n",
              "      <td>'4'</td>\n",
              "      <td>'F'</td>\n",
              "      <td>'28007'</td>\n",
              "      <td>'M1823072687'</td>\n",
              "      <td>'28007'</td>\n",
              "      <td>'es_transportation'</td>\n",
              "      <td>26.89</td>\n",
              "      <td>0</td>\n",
              "    </tr>\n",
              "    <tr>\n",
              "      <th>3</th>\n",
              "      <td>'C1760612790'</td>\n",
              "      <td>'3'</td>\n",
              "      <td>'M'</td>\n",
              "      <td>'28007'</td>\n",
              "      <td>'M348934600'</td>\n",
              "      <td>'28007'</td>\n",
              "      <td>'es_transportation'</td>\n",
              "      <td>17.25</td>\n",
              "      <td>0</td>\n",
              "    </tr>\n",
              "    <tr>\n",
              "      <th>4</th>\n",
              "      <td>'C757503768'</td>\n",
              "      <td>'5'</td>\n",
              "      <td>'M'</td>\n",
              "      <td>'28007'</td>\n",
              "      <td>'M348934600'</td>\n",
              "      <td>'28007'</td>\n",
              "      <td>'es_transportation'</td>\n",
              "      <td>35.72</td>\n",
              "      <td>0</td>\n",
              "    </tr>\n",
              "  </tbody>\n",
              "</table>\n",
              "</div>"
            ],
            "text/plain": [
              "        customer  age gender  ...             category amount fraud\n",
              "0  'C1093826151'  '4'    'M'  ...  'es_transportation'   4.55     0\n",
              "1   'C352968107'  '2'    'M'  ...  'es_transportation'  39.68     0\n",
              "2  'C2054744914'  '4'    'F'  ...  'es_transportation'  26.89     0\n",
              "3  'C1760612790'  '3'    'M'  ...  'es_transportation'  17.25     0\n",
              "4   'C757503768'  '5'    'M'  ...  'es_transportation'  35.72     0\n",
              "\n",
              "[5 rows x 9 columns]"
            ]
          },
          "metadata": {
            "tags": []
          },
          "execution_count": 128
        }
      ]
    },
    {
      "cell_type": "code",
      "metadata": {
        "id": "efwCC03FQfFd",
        "colab_type": "code",
        "colab": {
          "base_uri": "https://localhost:8080/",
          "height": 71
        },
        "outputId": "4f4cff0e-9ebc-4727-a7c5-1c0f28c62963"
      },
      "source": [
        "unique_print_str =  \"\"\n",
        "for column in transaction_df:\n",
        "    unique_print_str += \" |{}: {}| \".format(column, transaction_df[column].unique().size)\n",
        "    #print(df[column].unique().size)\n",
        "print('---------- Number of unique values per feature ----------')\n",
        "print(unique_print_str)"
      ],
      "execution_count": 129,
      "outputs": [
        {
          "output_type": "stream",
          "text": [
            "---------- Number of unique values per feature ----------\n",
            " |customer: 4112|  |age: 8|  |gender: 4|  |zipcodeOri: 1|  |merchant: 50|  |zipMerchant: 1|  |category: 15|  |amount: 23767|  |fraud: 2| \n"
          ],
          "name": "stdout"
        }
      ]
    },
    {
      "cell_type": "markdown",
      "metadata": {
        "id": "WVSM0VgZQkgz",
        "colab_type": "text"
      },
      "source": [
        "As seen above, the zipcodeOri and zipMerchant features contain only one unique value."
      ]
    },
    {
      "cell_type": "code",
      "metadata": {
        "id": "eRkrE_gAQoX8",
        "colab_type": "code",
        "colab": {
          "base_uri": "https://localhost:8080/",
          "height": 68
        },
        "outputId": "15bade5c-6371-406d-df55-75d6c43885a5"
      },
      "source": [
        "total = transaction_df.shape[0]\n",
        "normal = transaction_df[transaction_df.fraud == 0].customer.count()\n",
        "fraudulent = total - normal\n",
        "\n",
        "print(\"The total number of datapoints are {}\".format(total))\n",
        "print(\"The number of non-fraudulent datapoints are {}, equal to {} % of the dataset\".format(normal, round(100 *normal/total, 2)))\n",
        "print(\"The number of fraudulent datapoints are {}, equal to {} % of the dataset\".format(fraudulent, round(100 *fraudulent/total,2)))"
      ],
      "execution_count": 130,
      "outputs": [
        {
          "output_type": "stream",
          "text": [
            "The total number of datapoints are 594643\n",
            "The number of non-fraudulent datapoints are 587443, equal to 98.79 % of the dataset\n",
            "The number of fraudulent datapoints are 7200, equal to 1.21 % of the dataset\n"
          ],
          "name": "stdout"
        }
      ]
    },
    {
      "cell_type": "code",
      "metadata": {
        "id": "13CBYwO-Ojvu",
        "colab_type": "code",
        "colab": {}
      },
      "source": [
        "train_data_ratio = 0.8"
      ],
      "execution_count": 131,
      "outputs": []
    },
    {
      "cell_type": "code",
      "metadata": {
        "id": "qw3c0Qt5QwnL",
        "colab_type": "code",
        "colab": {
          "base_uri": "https://localhost:8080/",
          "height": 204
        },
        "outputId": "8d0eccca-66e7-47ee-dd3f-b49cb93b8d35"
      },
      "source": [
        "transaction_df =  transaction_df.drop(['zipcodeOri', 'zipMerchant'], axis = 1)\n",
        "transaction_df.head()"
      ],
      "execution_count": 132,
      "outputs": [
        {
          "output_type": "execute_result",
          "data": {
            "text/html": [
              "<div>\n",
              "<style scoped>\n",
              "    .dataframe tbody tr th:only-of-type {\n",
              "        vertical-align: middle;\n",
              "    }\n",
              "\n",
              "    .dataframe tbody tr th {\n",
              "        vertical-align: top;\n",
              "    }\n",
              "\n",
              "    .dataframe thead th {\n",
              "        text-align: right;\n",
              "    }\n",
              "</style>\n",
              "<table border=\"1\" class=\"dataframe\">\n",
              "  <thead>\n",
              "    <tr style=\"text-align: right;\">\n",
              "      <th></th>\n",
              "      <th>customer</th>\n",
              "      <th>age</th>\n",
              "      <th>gender</th>\n",
              "      <th>merchant</th>\n",
              "      <th>category</th>\n",
              "      <th>amount</th>\n",
              "      <th>fraud</th>\n",
              "    </tr>\n",
              "  </thead>\n",
              "  <tbody>\n",
              "    <tr>\n",
              "      <th>0</th>\n",
              "      <td>'C1093826151'</td>\n",
              "      <td>'4'</td>\n",
              "      <td>'M'</td>\n",
              "      <td>'M348934600'</td>\n",
              "      <td>'es_transportation'</td>\n",
              "      <td>4.55</td>\n",
              "      <td>0</td>\n",
              "    </tr>\n",
              "    <tr>\n",
              "      <th>1</th>\n",
              "      <td>'C352968107'</td>\n",
              "      <td>'2'</td>\n",
              "      <td>'M'</td>\n",
              "      <td>'M348934600'</td>\n",
              "      <td>'es_transportation'</td>\n",
              "      <td>39.68</td>\n",
              "      <td>0</td>\n",
              "    </tr>\n",
              "    <tr>\n",
              "      <th>2</th>\n",
              "      <td>'C2054744914'</td>\n",
              "      <td>'4'</td>\n",
              "      <td>'F'</td>\n",
              "      <td>'M1823072687'</td>\n",
              "      <td>'es_transportation'</td>\n",
              "      <td>26.89</td>\n",
              "      <td>0</td>\n",
              "    </tr>\n",
              "    <tr>\n",
              "      <th>3</th>\n",
              "      <td>'C1760612790'</td>\n",
              "      <td>'3'</td>\n",
              "      <td>'M'</td>\n",
              "      <td>'M348934600'</td>\n",
              "      <td>'es_transportation'</td>\n",
              "      <td>17.25</td>\n",
              "      <td>0</td>\n",
              "    </tr>\n",
              "    <tr>\n",
              "      <th>4</th>\n",
              "      <td>'C757503768'</td>\n",
              "      <td>'5'</td>\n",
              "      <td>'M'</td>\n",
              "      <td>'M348934600'</td>\n",
              "      <td>'es_transportation'</td>\n",
              "      <td>35.72</td>\n",
              "      <td>0</td>\n",
              "    </tr>\n",
              "  </tbody>\n",
              "</table>\n",
              "</div>"
            ],
            "text/plain": [
              "        customer  age gender       merchant             category  amount  fraud\n",
              "0  'C1093826151'  '4'    'M'   'M348934600'  'es_transportation'    4.55      0\n",
              "1   'C352968107'  '2'    'M'   'M348934600'  'es_transportation'   39.68      0\n",
              "2  'C2054744914'  '4'    'F'  'M1823072687'  'es_transportation'   26.89      0\n",
              "3  'C1760612790'  '3'    'M'   'M348934600'  'es_transportation'   17.25      0\n",
              "4   'C757503768'  '5'    'M'   'M348934600'  'es_transportation'   35.72      0"
            ]
          },
          "metadata": {
            "tags": []
          },
          "execution_count": 132
        }
      ]
    },
    {
      "cell_type": "code",
      "metadata": {
        "id": "gyWlwlPRTF6u",
        "colab_type": "code",
        "colab": {
          "base_uri": "https://localhost:8080/",
          "height": 204
        },
        "outputId": "7c8f8c7a-7e85-4d99-d26d-f2be81f4d2bb"
      },
      "source": [
        "# Normalizing Numerical Features¶\n",
        "from sklearn.preprocessing import MinMaxScaler\n",
        "\n",
        "# Initialize a scaler, then apply it to the features\n",
        "scaler = MinMaxScaler()\n",
        "\n",
        "transaction_df[['amount', 'fraud']] = scaler.fit_transform(transaction_df[['amount', 'fraud']])\n",
        "features.amount = transaction_df.amount\n",
        "\n",
        "\n",
        "# Show an example of a record with scaling applied\n",
        "transaction_df.head()"
      ],
      "execution_count": 138,
      "outputs": [
        {
          "output_type": "execute_result",
          "data": {
            "text/html": [
              "<div>\n",
              "<style scoped>\n",
              "    .dataframe tbody tr th:only-of-type {\n",
              "        vertical-align: middle;\n",
              "    }\n",
              "\n",
              "    .dataframe tbody tr th {\n",
              "        vertical-align: top;\n",
              "    }\n",
              "\n",
              "    .dataframe thead th {\n",
              "        text-align: right;\n",
              "    }\n",
              "</style>\n",
              "<table border=\"1\" class=\"dataframe\">\n",
              "  <thead>\n",
              "    <tr style=\"text-align: right;\">\n",
              "      <th></th>\n",
              "      <th>customer</th>\n",
              "      <th>age</th>\n",
              "      <th>gender</th>\n",
              "      <th>merchant</th>\n",
              "      <th>category</th>\n",
              "      <th>amount</th>\n",
              "      <th>fraud</th>\n",
              "    </tr>\n",
              "  </thead>\n",
              "  <tbody>\n",
              "    <tr>\n",
              "      <th>0</th>\n",
              "      <td>'C1093826151'</td>\n",
              "      <td>'4'</td>\n",
              "      <td>'M'</td>\n",
              "      <td>'M348934600'</td>\n",
              "      <td>'es_transportation'</td>\n",
              "      <td>0.000546</td>\n",
              "      <td>0.0</td>\n",
              "    </tr>\n",
              "    <tr>\n",
              "      <th>1</th>\n",
              "      <td>'C352968107'</td>\n",
              "      <td>'2'</td>\n",
              "      <td>'M'</td>\n",
              "      <td>'M348934600'</td>\n",
              "      <td>'es_transportation'</td>\n",
              "      <td>0.004764</td>\n",
              "      <td>0.0</td>\n",
              "    </tr>\n",
              "    <tr>\n",
              "      <th>2</th>\n",
              "      <td>'C2054744914'</td>\n",
              "      <td>'4'</td>\n",
              "      <td>'F'</td>\n",
              "      <td>'M1823072687'</td>\n",
              "      <td>'es_transportation'</td>\n",
              "      <td>0.003228</td>\n",
              "      <td>0.0</td>\n",
              "    </tr>\n",
              "    <tr>\n",
              "      <th>3</th>\n",
              "      <td>'C1760612790'</td>\n",
              "      <td>'3'</td>\n",
              "      <td>'M'</td>\n",
              "      <td>'M348934600'</td>\n",
              "      <td>'es_transportation'</td>\n",
              "      <td>0.002071</td>\n",
              "      <td>0.0</td>\n",
              "    </tr>\n",
              "    <tr>\n",
              "      <th>4</th>\n",
              "      <td>'C757503768'</td>\n",
              "      <td>'5'</td>\n",
              "      <td>'M'</td>\n",
              "      <td>'M348934600'</td>\n",
              "      <td>'es_transportation'</td>\n",
              "      <td>0.004288</td>\n",
              "      <td>0.0</td>\n",
              "    </tr>\n",
              "  </tbody>\n",
              "</table>\n",
              "</div>"
            ],
            "text/plain": [
              "        customer  age gender  ...             category    amount  fraud\n",
              "0  'C1093826151'  '4'    'M'  ...  'es_transportation'  0.000546    0.0\n",
              "1   'C352968107'  '2'    'M'  ...  'es_transportation'  0.004764    0.0\n",
              "2  'C2054744914'  '4'    'F'  ...  'es_transportation'  0.003228    0.0\n",
              "3  'C1760612790'  '3'    'M'  ...  'es_transportation'  0.002071    0.0\n",
              "4   'C757503768'  '5'    'M'  ...  'es_transportation'  0.004288    0.0\n",
              "\n",
              "[5 rows x 7 columns]"
            ]
          },
          "metadata": {
            "tags": []
          },
          "execution_count": 138
        }
      ]
    },
    {
      "cell_type": "code",
      "metadata": {
        "id": "_APzrYwvUEZ8",
        "colab_type": "code",
        "colab": {
          "base_uri": "https://localhost:8080/",
          "height": 204
        },
        "outputId": "120a3544-a9e7-471a-ad56-2afb2a9fa284"
      },
      "source": [
        "# split the features and labels\n",
        "label = transaction_df.fraud\n",
        "features = transaction_df.drop('fraud', axis = 1)\n",
        "features.head()"
      ],
      "execution_count": 139,
      "outputs": [
        {
          "output_type": "execute_result",
          "data": {
            "text/html": [
              "<div>\n",
              "<style scoped>\n",
              "    .dataframe tbody tr th:only-of-type {\n",
              "        vertical-align: middle;\n",
              "    }\n",
              "\n",
              "    .dataframe tbody tr th {\n",
              "        vertical-align: top;\n",
              "    }\n",
              "\n",
              "    .dataframe thead th {\n",
              "        text-align: right;\n",
              "    }\n",
              "</style>\n",
              "<table border=\"1\" class=\"dataframe\">\n",
              "  <thead>\n",
              "    <tr style=\"text-align: right;\">\n",
              "      <th></th>\n",
              "      <th>customer</th>\n",
              "      <th>age</th>\n",
              "      <th>gender</th>\n",
              "      <th>merchant</th>\n",
              "      <th>category</th>\n",
              "      <th>amount</th>\n",
              "    </tr>\n",
              "  </thead>\n",
              "  <tbody>\n",
              "    <tr>\n",
              "      <th>0</th>\n",
              "      <td>'C1093826151'</td>\n",
              "      <td>'4'</td>\n",
              "      <td>'M'</td>\n",
              "      <td>'M348934600'</td>\n",
              "      <td>'es_transportation'</td>\n",
              "      <td>0.000546</td>\n",
              "    </tr>\n",
              "    <tr>\n",
              "      <th>1</th>\n",
              "      <td>'C352968107'</td>\n",
              "      <td>'2'</td>\n",
              "      <td>'M'</td>\n",
              "      <td>'M348934600'</td>\n",
              "      <td>'es_transportation'</td>\n",
              "      <td>0.004764</td>\n",
              "    </tr>\n",
              "    <tr>\n",
              "      <th>2</th>\n",
              "      <td>'C2054744914'</td>\n",
              "      <td>'4'</td>\n",
              "      <td>'F'</td>\n",
              "      <td>'M1823072687'</td>\n",
              "      <td>'es_transportation'</td>\n",
              "      <td>0.003228</td>\n",
              "    </tr>\n",
              "    <tr>\n",
              "      <th>3</th>\n",
              "      <td>'C1760612790'</td>\n",
              "      <td>'3'</td>\n",
              "      <td>'M'</td>\n",
              "      <td>'M348934600'</td>\n",
              "      <td>'es_transportation'</td>\n",
              "      <td>0.002071</td>\n",
              "    </tr>\n",
              "    <tr>\n",
              "      <th>4</th>\n",
              "      <td>'C757503768'</td>\n",
              "      <td>'5'</td>\n",
              "      <td>'M'</td>\n",
              "      <td>'M348934600'</td>\n",
              "      <td>'es_transportation'</td>\n",
              "      <td>0.004288</td>\n",
              "    </tr>\n",
              "  </tbody>\n",
              "</table>\n",
              "</div>"
            ],
            "text/plain": [
              "        customer  age gender       merchant             category    amount\n",
              "0  'C1093826151'  '4'    'M'   'M348934600'  'es_transportation'  0.000546\n",
              "1   'C352968107'  '2'    'M'   'M348934600'  'es_transportation'  0.004764\n",
              "2  'C2054744914'  '4'    'F'  'M1823072687'  'es_transportation'  0.003228\n",
              "3  'C1760612790'  '3'    'M'   'M348934600'  'es_transportation'  0.002071\n",
              "4   'C757503768'  '5'    'M'   'M348934600'  'es_transportation'  0.004288"
            ]
          },
          "metadata": {
            "tags": []
          },
          "execution_count": 139
        }
      ]
    },
    {
      "cell_type": "code",
      "metadata": {
        "id": "vl8V-hYTUNp_",
        "colab_type": "code",
        "colab": {
          "base_uri": "https://localhost:8080/",
          "height": 204
        },
        "outputId": "0a6ac72d-f939-4206-9a2a-f05ccac6f682"
      },
      "source": [
        "features =  features.drop(['customer'], axis = 1)\n",
        "features.head()"
      ],
      "execution_count": 140,
      "outputs": [
        {
          "output_type": "execute_result",
          "data": {
            "text/html": [
              "<div>\n",
              "<style scoped>\n",
              "    .dataframe tbody tr th:only-of-type {\n",
              "        vertical-align: middle;\n",
              "    }\n",
              "\n",
              "    .dataframe tbody tr th {\n",
              "        vertical-align: top;\n",
              "    }\n",
              "\n",
              "    .dataframe thead th {\n",
              "        text-align: right;\n",
              "    }\n",
              "</style>\n",
              "<table border=\"1\" class=\"dataframe\">\n",
              "  <thead>\n",
              "    <tr style=\"text-align: right;\">\n",
              "      <th></th>\n",
              "      <th>age</th>\n",
              "      <th>gender</th>\n",
              "      <th>merchant</th>\n",
              "      <th>category</th>\n",
              "      <th>amount</th>\n",
              "    </tr>\n",
              "  </thead>\n",
              "  <tbody>\n",
              "    <tr>\n",
              "      <th>0</th>\n",
              "      <td>'4'</td>\n",
              "      <td>'M'</td>\n",
              "      <td>'M348934600'</td>\n",
              "      <td>'es_transportation'</td>\n",
              "      <td>0.000546</td>\n",
              "    </tr>\n",
              "    <tr>\n",
              "      <th>1</th>\n",
              "      <td>'2'</td>\n",
              "      <td>'M'</td>\n",
              "      <td>'M348934600'</td>\n",
              "      <td>'es_transportation'</td>\n",
              "      <td>0.004764</td>\n",
              "    </tr>\n",
              "    <tr>\n",
              "      <th>2</th>\n",
              "      <td>'4'</td>\n",
              "      <td>'F'</td>\n",
              "      <td>'M1823072687'</td>\n",
              "      <td>'es_transportation'</td>\n",
              "      <td>0.003228</td>\n",
              "    </tr>\n",
              "    <tr>\n",
              "      <th>3</th>\n",
              "      <td>'3'</td>\n",
              "      <td>'M'</td>\n",
              "      <td>'M348934600'</td>\n",
              "      <td>'es_transportation'</td>\n",
              "      <td>0.002071</td>\n",
              "    </tr>\n",
              "    <tr>\n",
              "      <th>4</th>\n",
              "      <td>'5'</td>\n",
              "      <td>'M'</td>\n",
              "      <td>'M348934600'</td>\n",
              "      <td>'es_transportation'</td>\n",
              "      <td>0.004288</td>\n",
              "    </tr>\n",
              "  </tbody>\n",
              "</table>\n",
              "</div>"
            ],
            "text/plain": [
              "   age gender       merchant             category    amount\n",
              "0  '4'    'M'   'M348934600'  'es_transportation'  0.000546\n",
              "1  '2'    'M'   'M348934600'  'es_transportation'  0.004764\n",
              "2  '4'    'F'  'M1823072687'  'es_transportation'  0.003228\n",
              "3  '3'    'M'   'M348934600'  'es_transportation'  0.002071\n",
              "4  '5'    'M'   'M348934600'  'es_transportation'  0.004288"
            ]
          },
          "metadata": {
            "tags": []
          },
          "execution_count": 140
        }
      ]
    },
    {
      "cell_type": "code",
      "metadata": {
        "id": "tZFLCq8ISflA",
        "colab_type": "code",
        "colab": {
          "base_uri": "https://localhost:8080/",
          "height": 34
        },
        "outputId": "d648fd0f-062c-4642-a353-694af0afc0ee"
      },
      "source": [
        "non_feature_cols = ['fraud', 'merchant','customer']\n",
        "feature_cols = [col for col in transaction_df.columns if col not in non_feature_cols]\n",
        "print(\"Categorical columns: {}\".format(feature_cols))"
      ],
      "execution_count": 145,
      "outputs": [
        {
          "output_type": "stream",
          "text": [
            "Categorical columns: ['age', 'gender', 'category', 'amount']\n"
          ],
          "name": "stdout"
        }
      ]
    },
    {
      "cell_type": "code",
      "metadata": {
        "id": "oD-FqAosUdNB",
        "colab_type": "code",
        "colab": {
          "base_uri": "https://localhost:8080/",
          "height": 204
        },
        "outputId": "161b8f89-779f-4b1b-e650-4a4c968c8226"
      },
      "source": [
        "transaction_df.head()"
      ],
      "execution_count": 146,
      "outputs": [
        {
          "output_type": "execute_result",
          "data": {
            "text/html": [
              "<div>\n",
              "<style scoped>\n",
              "    .dataframe tbody tr th:only-of-type {\n",
              "        vertical-align: middle;\n",
              "    }\n",
              "\n",
              "    .dataframe tbody tr th {\n",
              "        vertical-align: top;\n",
              "    }\n",
              "\n",
              "    .dataframe thead th {\n",
              "        text-align: right;\n",
              "    }\n",
              "</style>\n",
              "<table border=\"1\" class=\"dataframe\">\n",
              "  <thead>\n",
              "    <tr style=\"text-align: right;\">\n",
              "      <th></th>\n",
              "      <th>customer</th>\n",
              "      <th>age</th>\n",
              "      <th>gender</th>\n",
              "      <th>merchant</th>\n",
              "      <th>category</th>\n",
              "      <th>amount</th>\n",
              "      <th>fraud</th>\n",
              "    </tr>\n",
              "  </thead>\n",
              "  <tbody>\n",
              "    <tr>\n",
              "      <th>0</th>\n",
              "      <td>'C1093826151'</td>\n",
              "      <td>'4'</td>\n",
              "      <td>'M'</td>\n",
              "      <td>'M348934600'</td>\n",
              "      <td>'es_transportation'</td>\n",
              "      <td>0.000546</td>\n",
              "      <td>0.0</td>\n",
              "    </tr>\n",
              "    <tr>\n",
              "      <th>1</th>\n",
              "      <td>'C352968107'</td>\n",
              "      <td>'2'</td>\n",
              "      <td>'M'</td>\n",
              "      <td>'M348934600'</td>\n",
              "      <td>'es_transportation'</td>\n",
              "      <td>0.004764</td>\n",
              "      <td>0.0</td>\n",
              "    </tr>\n",
              "    <tr>\n",
              "      <th>2</th>\n",
              "      <td>'C2054744914'</td>\n",
              "      <td>'4'</td>\n",
              "      <td>'F'</td>\n",
              "      <td>'M1823072687'</td>\n",
              "      <td>'es_transportation'</td>\n",
              "      <td>0.003228</td>\n",
              "      <td>0.0</td>\n",
              "    </tr>\n",
              "    <tr>\n",
              "      <th>3</th>\n",
              "      <td>'C1760612790'</td>\n",
              "      <td>'3'</td>\n",
              "      <td>'M'</td>\n",
              "      <td>'M348934600'</td>\n",
              "      <td>'es_transportation'</td>\n",
              "      <td>0.002071</td>\n",
              "      <td>0.0</td>\n",
              "    </tr>\n",
              "    <tr>\n",
              "      <th>4</th>\n",
              "      <td>'C757503768'</td>\n",
              "      <td>'5'</td>\n",
              "      <td>'M'</td>\n",
              "      <td>'M348934600'</td>\n",
              "      <td>'es_transportation'</td>\n",
              "      <td>0.004288</td>\n",
              "      <td>0.0</td>\n",
              "    </tr>\n",
              "  </tbody>\n",
              "</table>\n",
              "</div>"
            ],
            "text/plain": [
              "        customer  age gender  ...             category    amount  fraud\n",
              "0  'C1093826151'  '4'    'M'  ...  'es_transportation'  0.000546    0.0\n",
              "1   'C352968107'  '2'    'M'  ...  'es_transportation'  0.004764    0.0\n",
              "2  'C2054744914'  '4'    'F'  ...  'es_transportation'  0.003228    0.0\n",
              "3  'C1760612790'  '3'    'M'  ...  'es_transportation'  0.002071    0.0\n",
              "4   'C757503768'  '5'    'M'  ...  'es_transportation'  0.004288    0.0\n",
              "\n",
              "[5 rows x 7 columns]"
            ]
          },
          "metadata": {
            "tags": []
          },
          "execution_count": 146
        }
      ]
    },
    {
      "cell_type": "code",
      "metadata": {
        "id": "nKxLtUQ8RGXm",
        "colab_type": "code",
        "colab": {
          "base_uri": "https://localhost:8080/",
          "height": 34
        },
        "outputId": "5b428fc9-48aa-4a4e-de62-dc2060ead6b5"
      },
      "source": [
        " # Get features\n",
        "non_feature_cols = ['fraud', 'merchant', 'customer'] \n",
        "feature_cols = [col for col in transaction_df.columns if col not in non_feature_cols]\n",
        "print(\"Categorical columns: {}\".format(feature_cols))"
      ],
      "execution_count": 155,
      "outputs": [
        {
          "output_type": "stream",
          "text": [
            "Categorical columns: ['age', 'gender', 'category', 'amount']\n"
          ],
          "name": "stdout"
        }
      ]
    },
    {
      "cell_type": "code",
      "metadata": {
        "id": "8LJ9gK86V8jt",
        "colab_type": "code",
        "colab": {}
      },
      "source": [
        "features_final = pd.get_dummies(feature_cols)"
      ],
      "execution_count": 156,
      "outputs": []
    },
    {
      "cell_type": "code",
      "metadata": {
        "id": "Ymwyd1LpWBhA",
        "colab_type": "code",
        "colab": {
          "base_uri": "https://localhost:8080/",
          "height": 215
        },
        "outputId": "dd09bb13-1e38-4b56-c94f-bc68e54efa68"
      },
      "source": [
        "# Get relations\n",
        "edge_types = feature_cols\n",
        "print(\"Found the following distinct relation types: {}\".format(edge_types))\n",
        "id_cols = ['customer'] \n",
        "\n",
        "# extract edges\n",
        "edges = {}\n",
        "for etype in edge_types:\n",
        "    edgelist = transaction_df[['customer', etype]].dropna()\n",
        "    edgelist.to_csv(os.path.join(output_dir, 'relation_{}_edgelist.csv').format(etype), index=False, header=True)\n",
        "    print(\"Wrote edgelist to: {}\".format(os.path.join(output_dir, 'relation_{}_edgelist.csv').format(etype)))\n",
        "    edges[etype] = edgelist\n",
        "return edges"
      ],
      "execution_count": 167,
      "outputs": [
        {
          "output_type": "stream",
          "text": [
            "Found the following distinct relation types: ['age', 'gender', 'category', 'amount']\n",
            "Wrote edgelist to: /content/drive/My Drive/Sunlife_ml/Experimenting_Graph/output_dir/relation_age_edgelist.csv\n",
            "Wrote edgelist to: /content/drive/My Drive/Sunlife_ml/Experimenting_Graph/output_dir/relation_gender_edgelist.csv\n",
            "Wrote edgelist to: /content/drive/My Drive/Sunlife_ml/Experimenting_Graph/output_dir/relation_category_edgelist.csv\n",
            "Wrote edgelist to: /content/drive/My Drive/Sunlife_ml/Experimenting_Graph/output_dir/relation_amount_edgelist.csv\n"
          ],
          "name": "stdout"
        },
        {
          "output_type": "error",
          "ename": "SyntaxError",
          "evalue": "ignored",
          "traceback": [
            "\u001b[0;36m  File \u001b[0;32m\"<ipython-input-167-7d824fa55fb8>\"\u001b[0;36m, line \u001b[0;32m13\u001b[0m\n\u001b[0;31m    return edges\u001b[0m\n\u001b[0m                ^\u001b[0m\n\u001b[0;31mSyntaxError\u001b[0m\u001b[0;31m:\u001b[0m 'return' outside function\n"
          ]
        }
      ]
    },
    {
      "cell_type": "code",
      "metadata": {
        "id": "IrS_VVm7YuRe",
        "colab_type": "code",
        "colab": {}
      },
      "source": [
        "homogeneous_edges = []\n",
        "for etype, relations in edges.items():\n",
        "  for edge_relation, frame in relations.groupby(etype):\n",
        "    new_edges = [(a, b) for (a, b) in combinations(frame.customer.values, 2)\n",
        "              if (a, b) not in homogeneous_edges and (b, a) not in homogeneous_edges]\n",
        "    homogeneous_edges.extend(new_edges)\n",
        "\n",
        "with open(os.path.join(output_dir, 'homogeneous_edgelist.csv'), 'w') as f:\n",
        "  f.writelines(map(lambda x: \"{}, {}\\n\".format(x[0], x[1]), homogeneous_edges))\n",
        "print(\"Wrote homogeneous edgelist to file: {}\".format(os.path.join(output_dir, 'homogeneous_edgelist.csv')))"
      ],
      "execution_count": null,
      "outputs": []
    },
    {
      "cell_type": "code",
      "metadata": {
        "id": "f8suVNaBAyqt",
        "colab_type": "code",
        "colab": {}
      },
      "source": [
        "def create_homogeneous_edgelist(edges, output_dir):\n",
        "    homogeneous_edges = []\n",
        "    for etype, relations in edges.items():\n",
        "        for edge_relation, frame in relations.groupby(etype):\n",
        "            new_edges = [(a, b) for (a, b) in combinations(frame.TransactionID.values, 2)\n",
        "                         if (a, b) not in homogeneous_edges and (b, a) not in homogeneous_edges]\n",
        "            homogeneous_edges.extend(new_edges)\n",
        "\n",
        "    with open(os.path.join(output_dir, 'homogeneous_edgelist.csv'), 'w') as f:\n",
        "        f.writelines(map(lambda x: \"{}, {}\\n\".format(x[0], x[1]), homogeneous_edges))\n",
        "    logging.info(\"Wrote homogeneous edgelist to file: {}\".format(os.path.join(output_dir, 'homogeneous_edgelist.csv')))"
      ],
      "execution_count": 164,
      "outputs": []
    }
  ]
}