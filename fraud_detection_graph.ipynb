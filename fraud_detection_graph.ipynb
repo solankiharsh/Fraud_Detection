{
  "nbformat": 4,
  "nbformat_minor": 0,
  "metadata": {
    "colab": {
      "name": "fraud_detection_graph.ipynb",
      "provenance": [],
      "mount_file_id": "1vlqBvcKswt7vnQ_6zXuJg3fK1rAnTtf6",
      "authorship_tag": "ABX9TyNZmoN5oFird4+QwxFGjdp1",
      "include_colab_link": true
    },
    "kernelspec": {
      "name": "python3",
      "display_name": "Python 3"
    }
  },
  "cells": [
    {
      "cell_type": "markdown",
      "metadata": {
        "id": "view-in-github",
        "colab_type": "text"
      },
      "source": [
        "<a href=\"https://colab.research.google.com/github/solankiharsh/Fraud_Detection/blob/master/fraud_detection_graph.ipynb\" target=\"_parent\"><img src=\"https://colab.research.google.com/assets/colab-badge.svg\" alt=\"Open In Colab\"/></a>"
      ]
    },
    {
      "cell_type": "code",
      "metadata": {
        "id": "y0Gyy4a9u7ZJ",
        "colab_type": "code",
        "colab": {}
      },
      "source": [
        "import pandas as pd\n",
        "import numpy as np\n",
        "import pandas as pd\n",
        "import matplotlib.pyplot as plt\n",
        "import matplotlib.mlab as mlab\n",
        "%matplotlib inline\n",
        "import argparse\n",
        "import logging\n",
        "import os\n",
        "from itertools import combinations"
      ],
      "execution_count": 1,
      "outputs": []
    },
    {
      "cell_type": "code",
      "metadata": {
        "id": "fdvhFE_zvDfM",
        "colab_type": "code",
        "colab": {}
      },
      "source": [
        "#! git clone https://github.com/awslabs/sagemaker-graph-fraud-detection"
      ],
      "execution_count": 2,
      "outputs": []
    },
    {
      "cell_type": "code",
      "metadata": {
        "id": "c9wUwgRR0pW5",
        "colab_type": "code",
        "colab": {}
      },
      "source": [
        "data_dir = '/content/drive/My Drive/ieee-fraud-detection'"
      ],
      "execution_count": null,
      "outputs": []
    },
    {
      "cell_type": "code",
      "metadata": {
        "id": "cBdzfa291WGK",
        "colab_type": "code",
        "colab": {}
      },
      "source": [
        "train_identity = pd.read_csv(f'{data_dir}/train_identity.csv')\n",
        "train_transaction = pd.read_csv(f'{data_dir}/train_transaction.csv')\n",
        "test_identity = pd.read_csv(f'{data_dir}/test_identity.csv')\n",
        "test_transaction = pd.read_csv(f'{data_dir}/test_transaction.csv')\n",
        "sub = pd.read_csv(f'{data_dir}/sample_submission.csv')\n",
        "# Combining identity and transaction\n",
        "train = pd.merge(train_transaction, train_identity, on='TransactionID', how='left')\n",
        "test = pd.merge(test_transaction, test_identity, on='TransactionID', how='left')"
      ],
      "execution_count": null,
      "outputs": []
    },
    {
      "cell_type": "code",
      "metadata": {
        "id": "XeIh8Evx1aUI",
        "colab_type": "code",
        "colab": {
          "base_uri": "https://localhost:8080/",
          "height": 51
        },
        "outputId": "e61304b3-2a1a-4976-c837-0b97891f91f0"
      },
      "source": [
        "print('There are {} rows and {} columns in the train dataset.'.format(train.shape[0],train.shape[1]))\n",
        "print('There are {} rows and {} columns in the test dataset.'.format(test.shape[0],test.shape[1]))"
      ],
      "execution_count": null,
      "outputs": [
        {
          "output_type": "stream",
          "text": [
            "There are 590540 rows and 434 columns in the train dataset.\n",
            "There are 506691 rows and 433 columns in the test dataset.\n"
          ],
          "name": "stdout"
        }
      ]
    },
    {
      "cell_type": "code",
      "metadata": {
        "id": "1ORPj3bs4KsG",
        "colab_type": "code",
        "colab": {
          "base_uri": "https://localhost:8080/",
          "height": 34
        },
        "outputId": "0354fe3e-5e40-431d-87ba-58f8532f17ce"
      },
      "source": [
        "print(f'There are {test.isnull().any().sum()} columns in test dataset with missing values.')"
      ],
      "execution_count": null,
      "outputs": [
        {
          "output_type": "stream",
          "text": [
            "There are 385 columns in test dataset with missing values.\n"
          ],
          "name": "stdout"
        }
      ]
    },
    {
      "cell_type": "code",
      "metadata": {
        "id": "51bpBRu65SJM",
        "colab_type": "code",
        "colab": {}
      },
      "source": [
        "def null_values(df): #creates a function with below logic\n",
        "        mis_val = df.isnull().sum() #gives sum of missing values (null values)\n",
        "        mis_val_percent = 100 * df.isnull().sum() / len(df) #getting percentage of missing values\n",
        "        mis_val_table = pd.concat([mis_val, mis_val_percent], axis=1) #creating a DF containing missing value count and it's percentage\n",
        "        mis_val_table_ren_columns = mis_val_table.rename( \n",
        "        columns = {0 : 'Missing Values', 1 : '% of Total Values'}) #renaming the columns\n",
        "        mis_val_table_ren_columns = mis_val_table_ren_columns[\n",
        "            mis_val_table_ren_columns.iloc[:,1] != 0].sort_values(\n",
        "        '% of Total Values', ascending=False).round(1) #getting the percentage of missing values in descending order and rounding it to 1 decimal\n",
        "        print (\"Dataframe has \" + str(df.shape[1]) + \" columns.\\n\"      \n",
        "            \"There are \" + str(mis_val_table_ren_columns.shape[0]) +\n",
        "              \" columns that have missing values.\") #printing number of columns and missing value count\n",
        "        return mis_val_table_ren_columns"
      ],
      "execution_count": null,
      "outputs": []
    },
    {
      "cell_type": "code",
      "metadata": {
        "id": "aTjA84CA67Ur",
        "colab_type": "code",
        "colab": {
          "base_uri": "https://localhost:8080/",
          "height": 703
        },
        "outputId": "cabae266-ddd3-4bc9-8bd9-2645cfb0fb2e"
      },
      "source": [
        "# Missing values statistics\n",
        "miss_values = null_values(train)\n",
        "miss_values.head(20)"
      ],
      "execution_count": null,
      "outputs": [
        {
          "output_type": "stream",
          "text": [
            "Dataframe has 434 columns.\n",
            "There are 414 columns that have missing values.\n"
          ],
          "name": "stdout"
        },
        {
          "output_type": "execute_result",
          "data": {
            "text/html": [
              "<div>\n",
              "<style scoped>\n",
              "    .dataframe tbody tr th:only-of-type {\n",
              "        vertical-align: middle;\n",
              "    }\n",
              "\n",
              "    .dataframe tbody tr th {\n",
              "        vertical-align: top;\n",
              "    }\n",
              "\n",
              "    .dataframe thead th {\n",
              "        text-align: right;\n",
              "    }\n",
              "</style>\n",
              "<table border=\"1\" class=\"dataframe\">\n",
              "  <thead>\n",
              "    <tr style=\"text-align: right;\">\n",
              "      <th></th>\n",
              "      <th>Missing Values</th>\n",
              "      <th>% of Total Values</th>\n",
              "    </tr>\n",
              "  </thead>\n",
              "  <tbody>\n",
              "    <tr>\n",
              "      <th>id_24</th>\n",
              "      <td>585793</td>\n",
              "      <td>99.2</td>\n",
              "    </tr>\n",
              "    <tr>\n",
              "      <th>id_25</th>\n",
              "      <td>585408</td>\n",
              "      <td>99.1</td>\n",
              "    </tr>\n",
              "    <tr>\n",
              "      <th>id_07</th>\n",
              "      <td>585385</td>\n",
              "      <td>99.1</td>\n",
              "    </tr>\n",
              "    <tr>\n",
              "      <th>id_08</th>\n",
              "      <td>585385</td>\n",
              "      <td>99.1</td>\n",
              "    </tr>\n",
              "    <tr>\n",
              "      <th>id_21</th>\n",
              "      <td>585381</td>\n",
              "      <td>99.1</td>\n",
              "    </tr>\n",
              "    <tr>\n",
              "      <th>id_26</th>\n",
              "      <td>585377</td>\n",
              "      <td>99.1</td>\n",
              "    </tr>\n",
              "    <tr>\n",
              "      <th>id_27</th>\n",
              "      <td>585371</td>\n",
              "      <td>99.1</td>\n",
              "    </tr>\n",
              "    <tr>\n",
              "      <th>id_23</th>\n",
              "      <td>585371</td>\n",
              "      <td>99.1</td>\n",
              "    </tr>\n",
              "    <tr>\n",
              "      <th>id_22</th>\n",
              "      <td>585371</td>\n",
              "      <td>99.1</td>\n",
              "    </tr>\n",
              "    <tr>\n",
              "      <th>dist2</th>\n",
              "      <td>552913</td>\n",
              "      <td>93.6</td>\n",
              "    </tr>\n",
              "    <tr>\n",
              "      <th>D7</th>\n",
              "      <td>551623</td>\n",
              "      <td>93.4</td>\n",
              "    </tr>\n",
              "    <tr>\n",
              "      <th>id_18</th>\n",
              "      <td>545427</td>\n",
              "      <td>92.4</td>\n",
              "    </tr>\n",
              "    <tr>\n",
              "      <th>D13</th>\n",
              "      <td>528588</td>\n",
              "      <td>89.5</td>\n",
              "    </tr>\n",
              "    <tr>\n",
              "      <th>D14</th>\n",
              "      <td>528353</td>\n",
              "      <td>89.5</td>\n",
              "    </tr>\n",
              "    <tr>\n",
              "      <th>D12</th>\n",
              "      <td>525823</td>\n",
              "      <td>89.0</td>\n",
              "    </tr>\n",
              "    <tr>\n",
              "      <th>id_03</th>\n",
              "      <td>524216</td>\n",
              "      <td>88.8</td>\n",
              "    </tr>\n",
              "    <tr>\n",
              "      <th>id_04</th>\n",
              "      <td>524216</td>\n",
              "      <td>88.8</td>\n",
              "    </tr>\n",
              "    <tr>\n",
              "      <th>D6</th>\n",
              "      <td>517353</td>\n",
              "      <td>87.6</td>\n",
              "    </tr>\n",
              "    <tr>\n",
              "      <th>id_33</th>\n",
              "      <td>517251</td>\n",
              "      <td>87.6</td>\n",
              "    </tr>\n",
              "    <tr>\n",
              "      <th>id_10</th>\n",
              "      <td>515614</td>\n",
              "      <td>87.3</td>\n",
              "    </tr>\n",
              "  </tbody>\n",
              "</table>\n",
              "</div>"
            ],
            "text/plain": [
              "       Missing Values  % of Total Values\n",
              "id_24          585793               99.2\n",
              "id_25          585408               99.1\n",
              "id_07          585385               99.1\n",
              "id_08          585385               99.1\n",
              "id_21          585381               99.1\n",
              "id_26          585377               99.1\n",
              "id_27          585371               99.1\n",
              "id_23          585371               99.1\n",
              "id_22          585371               99.1\n",
              "dist2          552913               93.6\n",
              "D7             551623               93.4\n",
              "id_18          545427               92.4\n",
              "D13            528588               89.5\n",
              "D14            528353               89.5\n",
              "D12            525823               89.0\n",
              "id_03          524216               88.8\n",
              "id_04          524216               88.8\n",
              "D6             517353               87.6\n",
              "id_33          517251               87.6\n",
              "id_10          515614               87.3"
            ]
          },
          "metadata": {
            "tags": []
          },
          "execution_count": 11
        }
      ]
    },
    {
      "cell_type": "code",
      "metadata": {
        "id": "rUyevitv9ASx",
        "colab_type": "code",
        "colab": {}
      },
      "source": [
        "#drop_list = sorted(list(missing_features[missing_features > 0.9].index)) #creating list to store the column names with over 90% missing values\n",
        "#print(drop_list)"
      ],
      "execution_count": null,
      "outputs": []
    },
    {
      "cell_type": "code",
      "metadata": {
        "id": "WNxbaq7h9PyJ",
        "colab_type": "code",
        "colab": {}
      },
      "source": [
        "#number of features to be dropped?\n",
        "#len(drop_list)"
      ],
      "execution_count": null,
      "outputs": []
    },
    {
      "cell_type": "code",
      "metadata": {
        "id": "Y0T8HlID9gU_",
        "colab_type": "code",
        "colab": {}
      },
      "source": [
        "#Dropping these features\n",
        "#train.drop(drop_list, axis=1, inplace=True)"
      ],
      "execution_count": null,
      "outputs": []
    },
    {
      "cell_type": "code",
      "metadata": {
        "id": "Ofw4T1vE9kIN",
        "colab_type": "code",
        "colab": {}
      },
      "source": [
        "#print('Now we are left with {} columns'.format(train.shape[1]))\n",
        "#print('The remaining columns are as follows:')\n",
        "#print(train.columns)"
      ],
      "execution_count": null,
      "outputs": []
    },
    {
      "cell_type": "code",
      "metadata": {
        "id": "DpTkr6H6Mc8U",
        "colab_type": "code",
        "colab": {
          "base_uri": "https://localhost:8080/",
          "height": 458
        },
        "outputId": "2cf03171-3371-49e8-f547-bdf5324b67ee"
      },
      "source": [
        "fig, axs = plt.subplots(1,2,figsize=(14,7))\n",
        "sns.countplot(x='isFraud',data=train,ax=axs[0])\n",
        "axs[0].set_title(\"Frequency of each Fraud Status\")\n",
        "train.isFraud.value_counts().plot(x=None,y=None, kind='pie', ax=axs[1],autopct='%1.2f%%')\n",
        "axs[1].set_title(\"Percentage of each Fraud status\")\n",
        "plt.show()"
      ],
      "execution_count": null,
      "outputs": [
        {
          "output_type": "display_data",
          "data": {
            "image/png": "[encoded data removed]",
            "text/plain": [
              "<Figure size 1008x504 with 2 Axes>"
            ]
          },
          "metadata": {
            "tags": []
          }
        }
      ]
    },
    {
      "cell_type": "code",
      "metadata": {
        "id": "7qgTGAG66yl4",
        "colab_type": "code",
        "colab": {}
      },
      "source": [
        "def parse_args():\n",
        "    parser = argparse.ArgumentParser()\n",
        "    parser.add_argument('--data-dir', type=str, default='/content/drive/My Drive/ieee-fraud-detection')\n",
        "    parser.add_argument('--output-dir', type=str, default='/content/drive/My Drive/ieee-fraud-detection/Output')\n",
        "    parser.add_argument('--transactions', type=str, default='train_transaction.csv', help='name of file with transactions')\n",
        "    parser.add_argument('--identity', type=str, default='train_identity.csv', help='name of file with identity info')\n",
        "    parser.add_argument('--id-cols', type=str, default='', help='comma separated id cols in transactions table')\n",
        "    parser.add_argument('--cat-cols', type=str, default='', help='comma separated categorical cols in transactions')\n",
        "    parser.add_argument('--train-data-ratio', type=float, default=0.8, help='fraction of data to use in training set')\n",
        "    parser.add_argument('--construct-homogeneous', action=\"store_true\", default=False,\n",
        "                        help='use bipartite graphs edgelists to construct homogenous graph edgelist')\n",
        "    return parser.parse_args()"
      ],
      "execution_count": null,
      "outputs": []
    },
    {
      "cell_type": "code",
      "metadata": {
        "id": "rRxF7Q5v8c6N",
        "colab_type": "code",
        "colab": {}
      },
      "source": [
        "data_dir = '/content/drive/My Drive/ieee-fraud-detection'\n",
        "transaction_data = 'train_transaction.csv'\n",
        "identity_data = 'train_identity.csv'\n",
        "train_data_ratio = 0.8\n",
        "output_dir = '/content/drive/My Drive/ieee-fraud-detection/Output'"
      ],
      "execution_count": null,
      "outputs": []
    },
    {
      "cell_type": "code",
      "metadata": {
        "id": "jVJllKc99pci",
        "colab_type": "code",
        "colab": {}
      },
      "source": [
        "def load_data(data_dir, transaction_data, identity_data, train_data_ratio, output_dir):\n",
        "    transaction_df = pd.read_csv(os.path.join(data_dir, transaction_data))\n",
        "    logging.info(\"Shape of transaction data is {}\".format(transaction_df.shape))\n",
        "    logging.info(\"# Tagged transactions: {}\".format(len(transaction_df) - transaction_df.isFraud.isnull().sum()))\n",
        "\n",
        "    identity_df = pd.read_csv(os.path.join(data_dir, identity_data))\n",
        "    logging.info(\"Shape of identity data is {}\".format(identity_df.shape))\n",
        "\n",
        "    # extract out transactions for test/validation\n",
        "    n_train = int(transaction_df.shape[0]*train_data_ratio)\n",
        "    test_ids = transaction_df.TransactionID.values[n_train:]\n",
        "\n",
        "    get_fraud_frac = lambda series: 100 * sum(series)/len(series)\n",
        "    logging.info(\"Percent fraud for train transactions: {}\".format(get_fraud_frac(transaction_df.isFraud[:n_train])))\n",
        "    logging.info(\"Percent fraud for test transactions: {}\".format(get_fraud_frac(transaction_df.isFraud[n_train:])))\n",
        "    logging.info(\"Percent fraud for all transactions: {}\".format(get_fraud_frac(transaction_df.isFraud)))\n",
        "\n",
        "    with open(os.path.join(output_dir, 'test.csv'), 'w') as f:\n",
        "        f.writelines(map(lambda x: str(x) + \"\\n\", test_ids))\n",
        "    logging.info(\"Wrote test to file: {}\".format(os.path.join(output_dir, 'test.csv')))\n",
        "\n",
        "    return transaction_df, identity_df, test_ids"
      ],
      "execution_count": null,
      "outputs": []
    },
    {
      "cell_type": "code",
      "metadata": {
        "id": "HurQMoqi8yD-",
        "colab_type": "code",
        "colab": {}
      },
      "source": [
        "#load_data(data_dir, transaction_data, identity_data, train_data_ratio, output_dir)"
      ],
      "execution_count": null,
      "outputs": []
    },
    {
      "cell_type": "code",
      "metadata": {
        "id": "zaDPGYXl-BX6",
        "colab_type": "code",
        "colab": {
          "base_uri": "https://localhost:8080/",
          "height": 561
        },
        "outputId": "794bb6ee-3628-4f57-f5b7-a26aac554995"
      },
      "source": [
        "object_columns_df = train.select_dtypes(include=['object'])\n",
        "print(object_columns_df.iloc[0])"
      ],
      "execution_count": null,
      "outputs": [
        {
          "output_type": "stream",
          "text": [
            "ProductCD               W\n",
            "card4            discover\n",
            "card6              credit\n",
            "P_emaildomain         NaN\n",
            "R_emaildomain         NaN\n",
            "M1                      T\n",
            "M2                      T\n",
            "M3                      T\n",
            "M4                     M2\n",
            "M5                      F\n",
            "M6                      T\n",
            "M7                    NaN\n",
            "M8                    NaN\n",
            "M9                    NaN\n",
            "id_12                 NaN\n",
            "id_15                 NaN\n",
            "id_16                 NaN\n",
            "id_23                 NaN\n",
            "id_27                 NaN\n",
            "id_28                 NaN\n",
            "id_29                 NaN\n",
            "id_30                 NaN\n",
            "id_31                 NaN\n",
            "id_33                 NaN\n",
            "id_34                 NaN\n",
            "id_35                 NaN\n",
            "id_36                 NaN\n",
            "id_37                 NaN\n",
            "id_38                 NaN\n",
            "DeviceType            NaN\n",
            "DeviceInfo            NaN\n",
            "Name: 0, dtype: object\n"
          ],
          "name": "stdout"
        }
      ]
    },
    {
      "cell_type": "code",
      "metadata": {
        "id": "8alMXgvM_Y8m",
        "colab_type": "code",
        "colab": {
          "base_uri": "https://localhost:8080/",
          "height": 1000
        },
        "outputId": "085f4090-f133-424f-81aa-49918fc94f66"
      },
      "source": [
        "categorical = object_columns_df.columns\n",
        "for name in categorical:\n",
        "    print(name,':')\n",
        "    print(object_columns_df[name].value_counts(),'\\n')"
      ],
      "execution_count": null,
      "outputs": [
        {
          "output_type": "stream",
          "text": [
            "ProductCD :\n",
            "W    439670\n",
            "C     68519\n",
            "R     37699\n",
            "H     33024\n",
            "S     11628\n",
            "Name: ProductCD, dtype: int64 \n",
            "\n",
            "card4 :\n",
            "visa                384767\n",
            "mastercard          189217\n",
            "american express      8328\n",
            "discover              6651\n",
            "Name: card4, dtype: int64 \n",
            "\n",
            "card6 :\n",
            "debit              439938\n",
            "credit             148986\n",
            "debit or credit        30\n",
            "charge card            15\n",
            "Name: card6, dtype: int64 \n",
            "\n",
            "P_emaildomain :\n",
            "gmail.com           228355\n",
            "yahoo.com           100934\n",
            "hotmail.com          45250\n",
            "anonymous.com        36998\n",
            "aol.com              28289\n",
            "comcast.net           7888\n",
            "icloud.com            6267\n",
            "outlook.com           5096\n",
            "msn.com               4092\n",
            "att.net               4033\n",
            "live.com              3041\n",
            "sbcglobal.net         2970\n",
            "verizon.net           2705\n",
            "ymail.com             2396\n",
            "bellsouth.net         1909\n",
            "yahoo.com.mx          1543\n",
            "me.com                1522\n",
            "cox.net               1393\n",
            "optonline.net         1011\n",
            "charter.net            816\n",
            "live.com.mx            749\n",
            "rocketmail.com         664\n",
            "mail.com               559\n",
            "earthlink.net          514\n",
            "gmail                  496\n",
            "outlook.es             438\n",
            "mac.com                436\n",
            "juno.com               322\n",
            "aim.com                315\n",
            "windstream.net         305\n",
            "hotmail.es             305\n",
            "roadrunner.com         305\n",
            "hotmail.fr             295\n",
            "frontier.com           280\n",
            "embarqmail.com         260\n",
            "web.de                 240\n",
            "twc.com                230\n",
            "netzero.com            230\n",
            "prodigy.net.mx         207\n",
            "centurylink.net        205\n",
            "netzero.net            196\n",
            "frontiernet.net        195\n",
            "q.com                  189\n",
            "suddenlink.net         175\n",
            "cfl.rr.com             172\n",
            "sc.rr.com              164\n",
            "cableone.net           159\n",
            "gmx.de                 149\n",
            "yahoo.fr               143\n",
            "yahoo.es               134\n",
            "hotmail.co.uk          112\n",
            "protonmail.com          76\n",
            "yahoo.de                74\n",
            "ptd.net                 68\n",
            "live.fr                 56\n",
            "yahoo.co.uk             49\n",
            "hotmail.de              43\n",
            "servicios-ta.com        35\n",
            "yahoo.co.jp             32\n",
            "Name: P_emaildomain, dtype: int64 \n",
            "\n",
            "R_emaildomain :\n",
            "gmail.com           57147\n",
            "hotmail.com         27509\n",
            "anonymous.com       20529\n",
            "yahoo.com           11842\n",
            "aol.com              3701\n",
            "outlook.com          2507\n",
            "comcast.net          1812\n",
            "yahoo.com.mx         1508\n",
            "icloud.com           1398\n",
            "msn.com               852\n",
            "live.com              762\n",
            "live.com.mx           754\n",
            "verizon.net           620\n",
            "me.com                556\n",
            "sbcglobal.net         552\n",
            "cox.net               459\n",
            "outlook.es            433\n",
            "att.net               430\n",
            "bellsouth.net         422\n",
            "hotmail.fr            293\n",
            "hotmail.es            292\n",
            "web.de                237\n",
            "mac.com               218\n",
            "ymail.com             207\n",
            "prodigy.net.mx        207\n",
            "optonline.net         187\n",
            "gmx.de                147\n",
            "yahoo.fr              137\n",
            "charter.net           127\n",
            "mail.com              122\n",
            "hotmail.co.uk         105\n",
            "gmail                  95\n",
            "earthlink.net          79\n",
            "yahoo.de               75\n",
            "rocketmail.com         69\n",
            "embarqmail.com         68\n",
            "scranton.edu           63\n",
            "yahoo.es               57\n",
            "live.fr                55\n",
            "roadrunner.com         53\n",
            "juno.com               53\n",
            "frontier.com           52\n",
            "windstream.net         47\n",
            "hotmail.de             42\n",
            "protonmail.com         41\n",
            "yahoo.co.uk            39\n",
            "cfl.rr.com             37\n",
            "aim.com                36\n",
            "servicios-ta.com       35\n",
            "yahoo.co.jp            33\n",
            "twc.com                29\n",
            "cableone.net           27\n",
            "ptd.net                27\n",
            "q.com                  25\n",
            "suddenlink.net         25\n",
            "frontiernet.net        14\n",
            "netzero.com            14\n",
            "centurylink.net        12\n",
            "netzero.net             9\n",
            "sc.rr.com               8\n",
            "Name: R_emaildomain, dtype: int64 \n",
            "\n",
            "M1 :\n",
            "T    319415\n",
            "F        25\n",
            "Name: M1, dtype: int64 \n",
            "\n",
            "M2 :\n",
            "T    285468\n",
            "F     33972\n",
            "Name: M2, dtype: int64 \n",
            "\n",
            "M3 :\n",
            "T    251731\n",
            "F     67709\n",
            "Name: M3, dtype: int64 \n",
            "\n",
            "M4 :\n",
            "M0    196405\n",
            "M2     59865\n",
            "M1     52826\n",
            "Name: M4, dtype: int64 \n",
            "\n",
            "M5 :\n",
            "F    132491\n",
            "T    107567\n",
            "Name: M5, dtype: int64 \n",
            "\n",
            "M6 :\n",
            "F    227856\n",
            "T    193324\n",
            "Name: M6, dtype: int64 \n",
            "\n",
            "M7 :\n",
            "F    211374\n",
            "T     32901\n",
            "Name: M7, dtype: int64 \n",
            "\n",
            "M8 :\n",
            "F    155251\n",
            "T     89037\n",
            "Name: M8, dtype: int64 \n",
            "\n",
            "M9 :\n",
            "T    205656\n",
            "F     38632\n",
            "Name: M9, dtype: int64 \n",
            "\n",
            "id_12 :\n",
            "NotFound    123025\n",
            "Found        21208\n",
            "Name: id_12, dtype: int64 \n",
            "\n",
            "id_15 :\n",
            "Found      67728\n",
            "New        61612\n",
            "Unknown    11645\n",
            "Name: id_15, dtype: int64 \n",
            "\n",
            "id_16 :\n",
            "Found       66324\n",
            "NotFound    63016\n",
            "Name: id_16, dtype: int64 \n",
            "\n",
            "id_23 :\n",
            "IP_PROXY:TRANSPARENT    3489\n",
            "IP_PROXY:ANONYMOUS      1071\n",
            "IP_PROXY:HIDDEN          609\n",
            "Name: id_23, dtype: int64 \n",
            "\n",
            "id_27 :\n",
            "Found       5155\n",
            "NotFound      14\n",
            "Name: id_27, dtype: int64 \n",
            "\n",
            "id_28 :\n",
            "Found    76232\n",
            "New      64746\n",
            "Name: id_28, dtype: int64 \n",
            "\n",
            "id_29 :\n",
            "Found       74926\n",
            "NotFound    66052\n",
            "Name: id_29, dtype: int64 \n",
            "\n",
            "id_30 :\n",
            "Windows 10          21155\n",
            "Windows 7           13110\n",
            "iOS 11.2.1           3722\n",
            "iOS 11.1.2           3699\n",
            "Android 7.0          2871\n",
            "                    ...  \n",
            "func                   10\n",
            "iOS 11.4.0              5\n",
            "Mac OS X 10_13_5        4\n",
            "Windows                 3\n",
            "iOS 11.4.1              1\n",
            "Name: id_30, Length: 75, dtype: int64 \n",
            "\n",
            "id_31 :\n",
            "chrome 63.0              22000\n",
            "mobile safari 11.0       13423\n",
            "mobile safari generic    11474\n",
            "ie 11.0 for desktop       9030\n",
            "safari generic            8195\n",
            "                         ...  \n",
            "firefox mobile 61.0          1\n",
            "BLU/Dash                     1\n",
            "iron                         1\n",
            "Cherry                       1\n",
            "Nokia/Lumia                  1\n",
            "Name: id_31, Length: 130, dtype: int64 \n",
            "\n",
            "id_33 :\n",
            "1920x1080    16874\n",
            "1366x768      8605\n",
            "1334x750      6447\n",
            "2208x1242     4900\n",
            "1440x900      4384\n",
            "             ...  \n",
            "1440x803         1\n",
            "2800x1575        1\n",
            "1920x1201        1\n",
            "3838x2160        1\n",
            "1232x800         1\n",
            "Name: id_33, Length: 260, dtype: int64 \n",
            "\n",
            "id_34 :\n",
            "match_status:2     60011\n",
            "match_status:1     17376\n",
            "match_status:0       415\n",
            "match_status:-1        3\n",
            "Name: id_34, dtype: int64 \n",
            "\n",
            "id_35 :\n",
            "T    77814\n",
            "F    63171\n",
            "Name: id_35, dtype: int64 \n",
            "\n",
            "id_36 :\n",
            "F    134066\n",
            "T      6919\n",
            "Name: id_36, dtype: int64 \n",
            "\n",
            "id_37 :\n",
            "T    110452\n",
            "F     30533\n",
            "Name: id_37, dtype: int64 \n",
            "\n",
            "id_38 :\n",
            "F    73922\n",
            "T    67063\n",
            "Name: id_38, dtype: int64 \n",
            "\n",
            "DeviceType :\n",
            "desktop    85165\n",
            "mobile     55645\n",
            "Name: DeviceType, dtype: int64 \n",
            "\n",
            "DeviceInfo :\n",
            "Windows                       47722\n",
            "iOS Device                    19782\n",
            "MacOS                         12573\n",
            "Trident/7.0                    7440\n",
            "rv:11.0                        1901\n",
            "                              ...  \n",
            "E5306                             1\n",
            "C6603                             1\n",
            "LG-K212                           1\n",
            "PLK-L01 Build/HONORPLK-L01        1\n",
            "ICON                              1\n",
            "Name: DeviceInfo, Length: 1786, dtype: int64 \n",
            "\n"
          ],
          "name": "stdout"
        }
      ]
    },
    {
      "cell_type": "code",
      "metadata": {
        "id": "ijwMSoIqAYNk",
        "colab_type": "code",
        "colab": {
          "base_uri": "https://localhost:8080/",
          "height": 1000
        },
        "outputId": "1fce0a25-a7a8-42a9-b6d7-47afb32b593e"
      },
      "source": [
        "import seaborn as sns\n",
        "sns.set_style(\"white\")\n",
        "fig = plt.figure(figsize = (20,15))\n",
        "axes = 320\n",
        "for i in categorical:\n",
        "    axes += 1\n",
        "    fig.add_subplot(axes)\n",
        "    sns.countplot(data = train , x = i, hue='isFraud')\n",
        "    plt.xticks(rotation=25)\n",
        "plt.show()"
      ],
      "execution_count": null,
      "outputs": [
        {
          "output_type": "error",
          "ename": "ValueError",
          "evalue": "ignored",
          "traceback": [
            "\u001b[0;31m---------------------------------------------------------------------------\u001b[0m",
            "\u001b[0;31mValueError\u001b[0m                                Traceback (most recent call last)",
            "\u001b[0;32m<ipython-input-39-444ed1150896>\u001b[0m in \u001b[0;36m<module>\u001b[0;34m()\u001b[0m\n\u001b[1;32m      5\u001b[0m \u001b[0;32mfor\u001b[0m \u001b[0mi\u001b[0m \u001b[0;32min\u001b[0m \u001b[0mcategorical\u001b[0m\u001b[0;34m:\u001b[0m\u001b[0;34m\u001b[0m\u001b[0;34m\u001b[0m\u001b[0m\n\u001b[1;32m      6\u001b[0m     \u001b[0maxes\u001b[0m \u001b[0;34m+=\u001b[0m \u001b[0;36m1\u001b[0m\u001b[0;34m\u001b[0m\u001b[0;34m\u001b[0m\u001b[0m\n\u001b[0;32m----> 7\u001b[0;31m     \u001b[0mfig\u001b[0m\u001b[0;34m.\u001b[0m\u001b[0madd_subplot\u001b[0m\u001b[0;34m(\u001b[0m\u001b[0maxes\u001b[0m\u001b[0;34m)\u001b[0m\u001b[0;34m\u001b[0m\u001b[0;34m\u001b[0m\u001b[0m\n\u001b[0m\u001b[1;32m      8\u001b[0m     \u001b[0msns\u001b[0m\u001b[0;34m.\u001b[0m\u001b[0mcountplot\u001b[0m\u001b[0;34m(\u001b[0m\u001b[0mdata\u001b[0m \u001b[0;34m=\u001b[0m \u001b[0mtrain\u001b[0m \u001b[0;34m,\u001b[0m \u001b[0mx\u001b[0m \u001b[0;34m=\u001b[0m \u001b[0mi\u001b[0m\u001b[0;34m,\u001b[0m \u001b[0mhue\u001b[0m\u001b[0;34m=\u001b[0m\u001b[0;34m'isFraud'\u001b[0m\u001b[0;34m)\u001b[0m\u001b[0;34m\u001b[0m\u001b[0;34m\u001b[0m\u001b[0m\n\u001b[1;32m      9\u001b[0m     \u001b[0mplt\u001b[0m\u001b[0;34m.\u001b[0m\u001b[0mxticks\u001b[0m\u001b[0;34m(\u001b[0m\u001b[0mrotation\u001b[0m\u001b[0;34m=\u001b[0m\u001b[0;36m25\u001b[0m\u001b[0;34m)\u001b[0m\u001b[0;34m\u001b[0m\u001b[0;34m\u001b[0m\u001b[0m\n",
            "\u001b[0;32m/usr/local/lib/python3.6/dist-packages/matplotlib/figure.py\u001b[0m in \u001b[0;36madd_subplot\u001b[0;34m(self, *args, **kwargs)\u001b[0m\n\u001b[1;32m   1417\u001b[0m                     \u001b[0mself\u001b[0m\u001b[0;34m.\u001b[0m\u001b[0m_axstack\u001b[0m\u001b[0;34m.\u001b[0m\u001b[0mremove\u001b[0m\u001b[0;34m(\u001b[0m\u001b[0max\u001b[0m\u001b[0;34m)\u001b[0m\u001b[0;34m\u001b[0m\u001b[0;34m\u001b[0m\u001b[0m\n\u001b[1;32m   1418\u001b[0m \u001b[0;34m\u001b[0m\u001b[0m\n\u001b[0;32m-> 1419\u001b[0;31m             \u001b[0ma\u001b[0m \u001b[0;34m=\u001b[0m \u001b[0msubplot_class_factory\u001b[0m\u001b[0;34m(\u001b[0m\u001b[0mprojection_class\u001b[0m\u001b[0;34m)\u001b[0m\u001b[0;34m(\u001b[0m\u001b[0mself\u001b[0m\u001b[0;34m,\u001b[0m \u001b[0;34m*\u001b[0m\u001b[0margs\u001b[0m\u001b[0;34m,\u001b[0m \u001b[0;34m**\u001b[0m\u001b[0mkwargs\u001b[0m\u001b[0;34m)\u001b[0m\u001b[0;34m\u001b[0m\u001b[0;34m\u001b[0m\u001b[0m\n\u001b[0m\u001b[1;32m   1420\u001b[0m \u001b[0;34m\u001b[0m\u001b[0m\n\u001b[1;32m   1421\u001b[0m         \u001b[0;32mreturn\u001b[0m \u001b[0mself\u001b[0m\u001b[0;34m.\u001b[0m\u001b[0m_add_axes_internal\u001b[0m\u001b[0;34m(\u001b[0m\u001b[0mkey\u001b[0m\u001b[0;34m,\u001b[0m \u001b[0ma\u001b[0m\u001b[0;34m)\u001b[0m\u001b[0;34m\u001b[0m\u001b[0;34m\u001b[0m\u001b[0m\n",
            "\u001b[0;32m/usr/local/lib/python3.6/dist-packages/matplotlib/axes/_subplots.py\u001b[0m in \u001b[0;36m__init__\u001b[0;34m(self, fig, *args, **kwargs)\u001b[0m\n\u001b[1;32m     64\u001b[0m                 \u001b[0;32mif\u001b[0m \u001b[0mnum\u001b[0m \u001b[0;34m<\u001b[0m \u001b[0;36m1\u001b[0m \u001b[0;32mor\u001b[0m \u001b[0mnum\u001b[0m \u001b[0;34m>\u001b[0m \u001b[0mrows\u001b[0m\u001b[0;34m*\u001b[0m\u001b[0mcols\u001b[0m\u001b[0;34m:\u001b[0m\u001b[0;34m\u001b[0m\u001b[0;34m\u001b[0m\u001b[0m\n\u001b[1;32m     65\u001b[0m                     raise ValueError(\n\u001b[0;32m---> 66\u001b[0;31m                         f\"num must be 1 <= num <= {rows*cols}, not {num}\")\n\u001b[0m\u001b[1;32m     67\u001b[0m                 self._subplotspec = GridSpec(\n\u001b[1;32m     68\u001b[0m                         rows, cols, figure=self.figure)[int(num) - 1]\n",
            "\u001b[0;31mValueError\u001b[0m: num must be 1 <= num <= 6, not 7"
          ]
        },
        {
          "output_type": "display_data",
          "data": {
            "image/png": "[encoded data removed]",
            "text/plain": [
              "<Figure size 1440x1080 with 6 Axes>"
            ]
          },
          "metadata": {
            "tags": []
          }
        }
      ]
    },
    {
      "cell_type": "code",
      "metadata": {
        "id": "zr7-Fh2z9R5d",
        "colab_type": "code",
        "colab": {}
      },
      "source": [
        "def get_features_and_labels(transactions_df, transactions_id_cols, transactions_cat_cols, output_dir):\n",
        "    # Get features\n",
        "    non_feature_cols = ['isFraud', 'TransactionDT'] + transactions_id_cols.split(\",\")\n",
        "    feature_cols = [col for col in transactions_df.columns if col not in non_feature_cols]\n",
        "    logging.info(\"Categorical columns: {}\".format(transactions_cat_cols.split(\",\")))\n",
        "    features = pd.get_dummies(transactions_df[feature_cols], columns=transactions_cat_cols.split(\",\")).fillna(0)\n",
        "    features['TransactionAmt'] = features['TransactionAmt'].apply(np.log10)\n",
        "    logging.info(\"Transformed feature columns: {}\".format(list(features.columns)))\n",
        "    logging.info(\"Shape of features: {}\".format(features.shape))\n",
        "    features.to_csv(os.path.join(output_dir, 'features.csv'), index=False, header=False)\n",
        "    logging.info(\"Wrote features to file: {}\".format(os.path.join(output_dir, 'features.csv')))\n",
        "\n",
        "    # Get labels\n",
        "    transactions_df[['TransactionID', 'isFraud']].to_csv(os.path.join(output_dir, 'tags.csv'), index=False)\n",
        "    logging.info(\"Wrote labels to file: {}\".format(os.path.join(output_dir, 'tags.csv')))"
      ],
      "execution_count": null,
      "outputs": []
    },
    {
      "cell_type": "code",
      "metadata": {
        "id": "dqLsucff9uQQ",
        "colab_type": "code",
        "colab": {
          "base_uri": "https://localhost:8080/",
          "height": 71
        },
        "outputId": "0981dbd5-27c2-48af-deb6-e80c8c4b6b8c"
      },
      "source": [
        "unique_print_str =  \"\"\n",
        "for column in train:\n",
        "    unique_print_str += \" |{}: {}| \".format(column, train[column].unique().size)\n",
        "    #print(train[column].unique().size)\n",
        "print('---------- Number of unique values per feature ----------')\n",
        "print(unique_print_str)"
      ],
      "execution_count": null,
      "outputs": [
        {
          "output_type": "stream",
          "text": [
            "---------- Number of unique values per feature ----------\n",
            " |TransactionID: 590540|  |isFraud: 2|  |TransactionDT: 573349|  |TransactionAmt: 20902|  |ProductCD: 5|  |card1: 13553|  |card2: 501|  |card3: 115|  |card4: 5|  |card5: 120|  |card6: 5|  |addr1: 333|  |addr2: 75|  |dist1: 2652|  |dist2: 1752|  |P_emaildomain: 60|  |R_emaildomain: 61|  |C1: 1657|  |C2: 1216|  |C3: 27|  |C4: 1260|  |C5: 319|  |C6: 1328|  |C7: 1103|  |C8: 1253|  |C9: 205|  |C10: 1231|  |C11: 1476|  |C12: 1199|  |C13: 1597|  |C14: 1108|  |D1: 642|  |D2: 642|  |D3: 650|  |D4: 809|  |D5: 689|  |D6: 830|  |D7: 598|  |D8: 12354|  |D9: 25|  |D10: 819|  |D11: 677|  |D12: 636|  |D13: 578|  |D14: 803|  |D15: 860|  |M1: 3|  |M2: 3|  |M3: 3|  |M4: 4|  |M5: 3|  |M6: 3|  |M7: 3|  |M8: 3|  |M9: 3|  |V1: 3|  |V2: 10|  |V3: 11|  |V4: 8|  |V5: 8|  |V6: 11|  |V7: 11|  |V8: 10|  |V9: 10|  |V10: 6|  |V11: 7|  |V12: 5|  |V13: 8|  |V14: 3|  |V15: 9|  |V16: 16|  |V17: 17|  |V18: 17|  |V19: 9|  |V20: 16|  |V21: 7|  |V22: 10|  |V23: 15|  |V24: 15|  |V25: 8|  |V26: 14|  |V27: 5|  |V28: 5|  |V29: 7|  |V30: 9|  |V31: 9|  |V32: 16|  |V33: 8|  |V34: 14|  |V35: 5|  |V36: 7|  |V37: 56|  |V38: 56|  |V39: 17|  |V40: 19|  |V41: 3|  |V42: 10|  |V43: 10|  |V44: 50|  |V45: 50|  |V46: 8|  |V47: 10|  |V48: 7|  |V49: 7|  |V50: 7|  |V51: 8|  |V52: 10|  |V53: 7|  |V54: 8|  |V55: 19|  |V56: 53|  |V57: 8|  |V58: 12|  |V59: 18|  |V60: 18|  |V61: 8|  |V62: 12|  |V63: 9|  |V64: 9|  |V65: 3|  |V66: 9|  |V67: 10|  |V68: 4|  |V69: 7|  |V70: 8|  |V71: 8|  |V72: 12|  |V73: 9|  |V74: 10|  |V75: 6|  |V76: 8|  |V77: 32|  |V78: 33|  |V79: 9|  |V80: 21|  |V81: 21|  |V82: 9|  |V83: 9|  |V84: 9|  |V85: 9|  |V86: 32|  |V87: 32|  |V88: 3|  |V89: 4|  |V90: 7|  |V91: 8|  |V92: 9|  |V93: 9|  |V94: 4|  |V95: 882|  |V96: 1411|  |V97: 977|  |V98: 14|  |V99: 90|  |V100: 30|  |V101: 871|  |V102: 1286|  |V103: 929|  |V104: 17|  |V105: 101|  |V106: 57|  |V107: 3|  |V108: 9|  |V109: 9|  |V110: 9|  |V111: 11|  |V112: 11|  |V113: 11|  |V114: 8|  |V115: 8|  |V116: 8|  |V117: 5|  |V118: 5|  |V119: 5|  |V120: 5|  |V121: 5|  |V122: 5|  |V123: 15|  |V124: 15|  |V125: 15|  |V126: 10300|  |V127: 24415|  |V128: 14508|  |V129: 1969|  |V130: 12333|  |V131: 4445|  |V132: 6561|  |V133: 9950|  |V134: 8179|  |V135: 3725|  |V136: 4853|  |V137: 4253|  |V138: 24|  |V139: 35|  |V140: 35|  |V141: 7|  |V142: 11|  |V143: 871|  |V144: 64|  |V145: 261|  |V146: 26|  |V147: 28|  |V148: 22|  |V149: 22|  |V150: 1997|  |V151: 57|  |V152: 40|  |V153: 20|  |V154: 20|  |V155: 26|  |V156: 26|  |V157: 26|  |V158: 26|  |V159: 6664|  |V160: 9622|  |V161: 80|  |V162: 186|  |V163: 107|  |V164: 1979|  |V165: 2548|  |V166: 988|  |V167: 874|  |V168: 966|  |V169: 21|  |V170: 50|  |V171: 63|  |V172: 33|  |V173: 9|  |V174: 10|  |V175: 16|  |V176: 50|  |V177: 863|  |V178: 1237|  |V179: 922|  |V180: 85|  |V181: 26|  |V182: 85|  |V183: 43|  |V184: 18|  |V185: 33|  |V186: 40|  |V187: 216|  |V188: 32|  |V189: 32|  |V190: 44|  |V191: 23|  |V192: 46|  |V193: 39|  |V194: 9|  |V195: 18|  |V196: 40|  |V197: 16|  |V198: 23|  |V199: 47|  |V200: 47|  |V201: 57|  |V202: 10971|  |V203: 14952|  |V204: 12859|  |V205: 2241|  |V206: 1781|  |V207: 3247|  |V208: 2553|  |V209: 3452|  |V210: 2837|  |V211: 7625|  |V212: 8869|  |V213: 8318|  |V214: 2283|  |V215: 2748|  |V216: 2533|  |V217: 305|  |V218: 402|  |V219: 380|  |V220: 27|  |V221: 78|  |V222: 77|  |V223: 18|  |V224: 80|  |V225: 36|  |V226: 82|  |V227: 51|  |V228: 56|  |V229: 92|  |V230: 67|  |V231: 295|  |V232: 339|  |V233: 334|  |V234: 123|  |V235: 25|  |V236: 47|  |V237: 41|  |V238: 25|  |V239: 25|  |V240: 7|  |V241: 6|  |V242: 22|  |V243: 44|  |V244: 24|  |V245: 59|  |V246: 47|  |V247: 20|  |V248: 24|  |V249: 24|  |V250: 20|  |V251: 20|  |V252: 26|  |V253: 67|  |V254: 46|  |V255: 47|  |V256: 49|  |V257: 50|  |V258: 68|  |V259: 69|  |V260: 10|  |V261: 42|  |V262: 22|  |V263: 10423|  |V264: 13359|  |V265: 11758|  |V266: 2179|  |V267: 3617|  |V268: 2757|  |V269: 152|  |V270: 2341|  |V271: 2788|  |V272: 2508|  |V273: 7178|  |V274: 8316|  |V275: 7777|  |V276: 2264|  |V277: 2541|  |V278: 2399|  |V279: 882|  |V280: 976|  |V281: 24|  |V282: 34|  |V283: 63|  |V284: 14|  |V285: 97|  |V286: 10|  |V287: 33|  |V288: 12|  |V289: 14|  |V290: 59|  |V291: 220|  |V292: 174|  |V293: 871|  |V294: 1287|  |V295: 929|  |V296: 95|  |V297: 14|  |V298: 95|  |V299: 51|  |V300: 13|  |V301: 15|  |V302: 18|  |V303: 22|  |V304: 18|  |V305: 3|  |V306: 16211|  |V307: 37368|  |V308: 23065|  |V309: 4237|  |V310: 19137|  |V311: 3099|  |V312: 8069|  |V313: 5530|  |V314: 11378|  |V315: 6974|  |V316: 9815|  |V317: 15185|  |V318: 12310|  |V319: 4800|  |V320: 6440|  |V321: 5561|  |V322: 882|  |V323: 1412|  |V324: 977|  |V325: 14|  |V326: 46|  |V327: 20|  |V328: 17|  |V329: 101|  |V330: 57|  |V331: 1759|  |V332: 2454|  |V333: 1972|  |V334: 144|  |V335: 673|  |V336: 357|  |V337: 255|  |V338: 381|  |V339: 335|  |id_01: 78|  |id_02: 115656|  |id_03: 25|  |id_04: 16|  |id_05: 94|  |id_06: 102|  |id_07: 85|  |id_08: 95|  |id_09: 47|  |id_10: 63|  |id_11: 366|  |id_12: 3|  |id_13: 55|  |id_14: 26|  |id_15: 4|  |id_16: 3|  |id_17: 105|  |id_18: 19|  |id_19: 523|  |id_20: 395|  |id_21: 491|  |id_22: 26|  |id_23: 4|  |id_24: 13|  |id_25: 342|  |id_26: 96|  |id_27: 3|  |id_28: 3|  |id_29: 3|  |id_30: 76|  |id_31: 131|  |id_32: 5|  |id_33: 261|  |id_34: 5|  |id_35: 3|  |id_36: 3|  |id_37: 3|  |id_38: 3|  |DeviceType: 3|  |DeviceInfo: 1787| \n"
          ],
          "name": "stdout"
        }
      ]
    },
    {
      "cell_type": "code",
      "metadata": {
        "id": "IW3UekraERxw",
        "colab_type": "code",
        "colab": {}
      },
      "source": [
        "total = train.shape[0]\n",
        "normal = train[train.isFraud == 0].TransactionID.count()\n",
        "fraudulent = total - normal\n",
        "\n",
        "print(\"The total number of datapoints are {}\".format(total))\n",
        "print(\"The number of non-fraudulent datapoints are {}, equal to {} % of the dataset\".format(normal, round(100 *normal/total, 2)))\n",
        "print(\"The number of fraudulent datapoints are {}, equal to {} % of the dataset\".format(fraudulent, round(100 *fraudulent/total,2)))"
      ],
      "execution_count": null,
      "outputs": []
    },
    {
      "cell_type": "code",
      "metadata": {
        "id": "dt5Z6pAtF-dP",
        "colab_type": "code",
        "colab": {}
      },
      "source": [
        "fig, axs = plt.subplots(1,2,figsize=(14,7))\n",
        "sns.countplot(x='isFraud',data=train,ax=axs[0])\n",
        "axs[0].set_title(\"Frequency of fraudulent vs non fraudulent\")\n",
        "train.isFraud.value_counts().plot(x=None,y=None, kind='pie', ax=axs[1],autopct='%1.2f%%')\n",
        "axs[1].set_title(\"Percentage of each Fraud status\")\n",
        "plt.show()"
      ],
      "execution_count": null,
      "outputs": []
    },
    {
      "cell_type": "code",
      "metadata": {
        "id": "F4mxEmVWGpNF",
        "colab_type": "code",
        "colab": {
          "base_uri": "https://localhost:8080/",
          "height": 119
        },
        "outputId": "9ae9bdde-2549-4623-e254-7df9cf8bcab7"
      },
      "source": [
        "train.columns"
      ],
      "execution_count": null,
      "outputs": [
        {
          "output_type": "execute_result",
          "data": {
            "text/plain": [
              "Index(['TransactionID', 'isFraud', 'TransactionDT', 'TransactionAmt',\n",
              "       'ProductCD', 'card1', 'card2', 'card3', 'card4', 'card5',\n",
              "       ...\n",
              "       'id_31', 'id_32', 'id_33', 'id_34', 'id_35', 'id_36', 'id_37', 'id_38',\n",
              "       'DeviceType', 'DeviceInfo'],\n",
              "      dtype='object', length=422)"
            ]
          },
          "metadata": {
            "tags": []
          },
          "execution_count": 33
        }
      ]
    },
    {
      "cell_type": "code",
      "metadata": {
        "id": "5RWRLNMRGGlY",
        "colab_type": "code",
        "colab": {
          "base_uri": "https://localhost:8080/",
          "height": 369
        },
        "outputId": "cf77f714-5116-450c-bd6b-6e4d871cfc5f"
      },
      "source": [
        "plt.hist(train['id_01'], bins=100);\n",
        "plt.title('Distribution of id_01 variable');"
      ],
      "execution_count": null,
      "outputs": [
        {
          "output_type": "stream",
          "text": [
            "/usr/local/lib/python3.6/dist-packages/numpy/lib/histograms.py:839: RuntimeWarning: invalid value encountered in greater_equal\n",
            "  keep = (tmp_a >= first_edge)\n",
            "/usr/local/lib/python3.6/dist-packages/numpy/lib/histograms.py:840: RuntimeWarning: invalid value encountered in less_equal\n",
            "  keep &= (tmp_a <= last_edge)\n"
          ],
          "name": "stderr"
        },
        {
          "output_type": "display_data",
          "data": {
            "image/png": "[encoded data removed]",
            "text/plain": [
              "<Figure size 432x288 with 1 Axes>"
            ]
          },
          "metadata": {
            "tags": [],
            "needs_background": "light"
          }
        }
      ]
    },
    {
      "cell_type": "code",
      "metadata": {
        "id": "EcNXGBVLGwsH",
        "colab_type": "code",
        "colab": {
          "base_uri": "https://localhost:8080/",
          "height": 119
        },
        "outputId": "fcd7ec10-d524-48df-b598-34309df75f67"
      },
      "source": [
        "train['id_03'].value_counts(dropna=False, normalize=True).head()"
      ],
      "execution_count": null,
      "outputs": [
        {
          "output_type": "execute_result",
          "data": {
            "text/plain": [
              "NaN    0.887689\n",
              "0.0    0.108211\n",
              "1.0    0.001461\n",
              "3.0    0.001131\n",
              "2.0    0.000713\n",
              "Name: id_03, dtype: float64"
            ]
          },
          "metadata": {
            "tags": []
          },
          "execution_count": 37
        }
      ]
    },
    {
      "cell_type": "code",
      "metadata": {
        "id": "ys2gDk2VHMIX",
        "colab_type": "code",
        "colab": {
          "base_uri": "https://localhost:8080/",
          "height": 119
        },
        "outputId": "0f69880c-9544-4b01-8464-d544d719f5ec"
      },
      "source": [
        "train['id_04'].value_counts(dropna=False, normalize=True).head()"
      ],
      "execution_count": null,
      "outputs": [
        {
          "output_type": "execute_result",
          "data": {
            "text/plain": [
              " NaN    0.887689\n",
              " 0.0    0.111320\n",
              "-5.0    0.000224\n",
              "-6.0    0.000166\n",
              "-8.0    0.000108\n",
              "Name: id_04, dtype: float64"
            ]
          },
          "metadata": {
            "tags": []
          },
          "execution_count": 38
        }
      ]
    },
    {
      "cell_type": "code",
      "metadata": {
        "id": "DIaJM_LFHWb_",
        "colab_type": "code",
        "colab": {}
      },
      "source": [
        "drop_list2 = ['id_03','id_04']\n",
        "train.drop(drop_list2, axis=1, inplace=True)"
      ],
      "execution_count": null,
      "outputs": []
    },
    {
      "cell_type": "code",
      "metadata": {
        "id": "1NLYFCl9HrGY",
        "colab_type": "code",
        "colab": {}
      },
      "source": [
        "import argparse\n",
        "import logging\n",
        "import os\n",
        "\n",
        "import pandas as pd\n",
        "import numpy as np\n",
        "from itertools import combinations\n",
        "\n",
        "\n",
        "def parse_args():\n",
        "    parser = argparse.ArgumentParser()\n",
        "    parser.add_argument('--data-dir', type=str, default='/opt/ml/processing/input')\n",
        "    parser.add_argument('--output-dir', type=str, default='/opt/ml/processing/output')\n",
        "    parser.add_argument('--transactions', type=str, default='transaction.csv', help='name of file with transactions')\n",
        "    parser.add_argument('--identity', type=str, default='identity.csv', help='name of file with identity info')\n",
        "    parser.add_argument('--id-cols', type=str, default='', help='comma separated id cols in transactions table')\n",
        "    parser.add_argument('--cat-cols', type=str, default='', help='comma separated categorical cols in transactions')\n",
        "    parser.add_argument('--train-data-ratio', type=float, default=0.8, help='fraction of data to use in training set')\n",
        "    parser.add_argument('--construct-homogeneous', action=\"store_true\", default=False,\n",
        "                        help='use bipartite graphs edgelists to construct homogenous graph edgelist')\n",
        "    return parser.parse_args()\n",
        "\n",
        "\n",
        "def get_logger(name):\n",
        "    logger = logging.getLogger(name)\n",
        "    log_format = '%(asctime)s %(levelname)s %(name)s: %(message)s'\n",
        "    logging.basicConfig(format=log_format, level=logging.INFO)\n",
        "    logger.setLevel(logging.INFO)\n",
        "    return logger\n",
        "\n",
        "\n",
        "def load_data(data_dir, transaction_data, identity_data, train_data_ratio, output_dir):\n",
        "    transaction_df = pd.read_csv(os.path.join(data_dir, transaction_data))\n",
        "    logging.info(\"Shape of transaction data is {}\".format(transaction_df.shape))\n",
        "    logging.info(\"# Tagged transactions: {}\".format(len(transaction_df) - transaction_df.isFraud.isnull().sum()))\n",
        "\n",
        "    identity_df = pd.read_csv(os.path.join(data_dir, identity_data))\n",
        "    logging.info(\"Shape of identity data is {}\".format(identity_df.shape))\n",
        "\n",
        "    # extract out transactions for test/validation\n",
        "    n_train = int(transaction_df.shape[0]*train_data_ratio)\n",
        "    test_ids = transaction_df.TransactionID.values[n_train:]\n",
        "\n",
        "    get_fraud_frac = lambda series: 100 * sum(series)/len(series)\n",
        "    logging.info(\"Percent fraud for train transactions: {}\".format(get_fraud_frac(transaction_df.isFraud[:n_train])))\n",
        "    logging.info(\"Percent fraud for test transactions: {}\".format(get_fraud_frac(transaction_df.isFraud[n_train:])))\n",
        "    logging.info(\"Percent fraud for all transactions: {}\".format(get_fraud_frac(transaction_df.isFraud)))\n",
        "\n",
        "    with open(os.path.join(output_dir, 'test.csv'), 'w') as f:\n",
        "        f.writelines(map(lambda x: str(x) + \"\\n\", test_ids))\n",
        "    logging.info(\"Wrote test to file: {}\".format(os.path.join(output_dir, 'test.csv')))\n",
        "\n",
        "    return transaction_df, identity_df, test_ids\n",
        "\n",
        "\n",
        "def get_features_and_labels(transactions_df, transactions_id_cols, transactions_cat_cols, output_dir):\n",
        "    # Get features\n",
        "    non_feature_cols = ['isFraud', 'TransactionDT'] + transactions_id_cols.split(\",\")\n",
        "    feature_cols = [col for col in transactions_df.columns if col not in non_feature_cols]\n",
        "    logging.info(\"Categorical columns: {}\".format(transactions_cat_cols.split(\",\")))\n",
        "    features = pd.get_dummies(transactions_df[feature_cols], columns=transactions_cat_cols.split(\",\")).fillna(0)\n",
        "    features['TransactionAmt'] = features['TransactionAmt'].apply(np.log10)\n",
        "    logging.info(\"Transformed feature columns: {}\".format(list(features.columns)))\n",
        "    logging.info(\"Shape of features: {}\".format(features.shape))\n",
        "    features.to_csv(os.path.join(output_dir, 'features.csv'), index=False, header=False)\n",
        "    logging.info(\"Wrote features to file: {}\".format(os.path.join(output_dir, 'features.csv')))\n",
        "\n",
        "    # Get labels\n",
        "    transactions_df[['TransactionID', 'isFraud']].to_csv(os.path.join(output_dir, 'tags.csv'), index=False)\n",
        "    logging.info(\"Wrote labels to file: {}\".format(os.path.join(output_dir, 'tags.csv')))\n",
        "\n",
        "\n",
        "def get_relations_and_edgelist(transactions_df, identity_df, transactions_id_cols, output_dir):\n",
        "    # Get relations\n",
        "    edge_types = transactions_id_cols.split(\",\") + list(identity_df.columns)\n",
        "    logging.info(\"Found the following distinct relation types: {}\".format(edge_types))\n",
        "    id_cols = ['TransactionID'] + transactions_id_cols.split(\",\")\n",
        "    full_identity_df = transactions_df[id_cols].merge(identity_df, on='TransactionID', how='left')\n",
        "    logging.info(\"Shape of identity columns: {}\".format(full_identity_df.shape))\n",
        "\n",
        "    # extract edges\n",
        "    edges = {}\n",
        "    for etype in edge_types:\n",
        "        edgelist = full_identity_df[['TransactionID', etype]].dropna()\n",
        "        edgelist.to_csv(os.path.join(output_dir, 'relation_{}_edgelist.csv').format(etype), index=False, header=True)\n",
        "        logging.info(\"Wrote edgelist to: {}\".format(os.path.join(output_dir, 'relation_{}_edgelist.csv').format(etype)))\n",
        "        edges[etype] = edgelist\n",
        "    return edges\n",
        "\n",
        "\n",
        "def create_homogeneous_edgelist(edges, output_dir):\n",
        "    homogeneous_edges = []\n",
        "    for etype, relations in edges.items():\n",
        "        for edge_relation, frame in relations.groupby(etype):\n",
        "            new_edges = [(a, b) for (a, b) in combinations(frame.TransactionID.values, 2)\n",
        "                         if (a, b) not in homogeneous_edges and (b, a) not in homogeneous_edges]\n",
        "            homogeneous_edges.extend(new_edges)\n",
        "\n",
        "    with open(os.path.join(output_dir, 'homogeneous_edgelist.csv'), 'w') as f:\n",
        "        f.writelines(map(lambda x: \"{}, {}\\n\".format(x[0], x[1]), homogeneous_edges))\n",
        "    logging.info(\"Wrote homogeneous edgelist to file: {}\".format(os.path.join(output_dir, 'homogeneous_edgelist.csv')))"
      ],
      "execution_count": null,
      "outputs": []
    },
    {
      "cell_type": "code",
      "metadata": {
        "id": "8v-Gq2LlHzwQ",
        "colab_type": "code",
        "colab": {}
      },
      "source": [
        "if name == '__main__':\n",
        "    logging = get_logger(name)\n",
        "\n",
        "    args = parse_args()\n",
        "\n",
        "    transactions, identity, test_transactions = load_data(args.data_dir,\n",
        "                                                          args.transactions,\n",
        "                                                          args.identity,\n",
        "                                                          args.train_data_ratio,\n",
        "                                                          args.output_dir)\n",
        "\n",
        "    get_features_and_labels(transactions, args.id_cols, args.cat_cols, args.output_dir)\n",
        "    relational_edges = get_relations_and_edgelist(transactions, identity, args.id_cols, args.output_dir)\n",
        "\n",
        "    if args.construct_homogeneous:\n",
        "        create_homogeneous_edgelist(relational_edges, args.output_dir)"
      ],
      "execution_count": null,
      "outputs": []
    },
    {
      "cell_type": "code",
      "metadata": {
        "id": "hEXSj119Ef3P",
        "colab_type": "code",
        "colab": {}
      },
      "source": [
        "def get_obj_cols(df, k):\n",
        "    \"\"\"\n",
        "    Function returns the object features in the dataset\n",
        "    \"\"\"\n",
        "    cols = list(df.columns)\n",
        "    obj_cols = [cols[i[0]] for i in enumerate(df.dtypes) if i[1] == 'object']\n",
        "    return obj_cols"
      ],
      "execution_count": null,
      "outputs": []
    },
    {
      "cell_type": "code",
      "metadata": {
        "id": "yeqjcdlLU_2I",
        "colab_type": "code",
        "colab": {}
      },
      "source": [
        "def pre_processing(df, k):\n",
        "    \"\"\"\n",
        "    Function returns preprocess dataframe for training\n",
        "    \n",
        "    Args:\n",
        "        df: loaded dataframe\n",
        "        nrc: non relevant columns\n",
        "        oc: object type columns\n",
        "        \n",
        "    Returns:\n",
        "        df_trans: preprocessed dataframe\n",
        "    \"\"\"\n",
        "    \n",
        "    object_columns = get_obj_cols(df, k)\n",
        "    object_df = pd.get_dummies(df, columns=object_columns)\n",
        "    \n",
        "    for i in object_df.columns[object_df.isnull().any(axis=0)]:\n",
        "        object_df[i].fillna(object_df[i].median(), inplace=True)\n",
        "    \n",
        "    cols = list(object_df.columns)\n",
        "    q_transform = preprocessing.QuantileTransformer()\n",
        "    np_trans = q_transform.fit_transform(object_df)\n",
        "    df_trans = pd.DataFrame(np_trans)\n",
        "    df_trans.columns = object_df.columns\n",
        "    \n",
        "    return df_trans"
      ],
      "execution_count": null,
      "outputs": []
    },
    {
      "cell_type": "code",
      "metadata": {
        "id": "Z27IKIbJVOAx",
        "colab_type": "code",
        "colab": {}
      },
      "source": [
        "df_train = pre_processing(train, 20)"
      ],
      "execution_count": null,
      "outputs": []
    },
    {
      "cell_type": "code",
      "metadata": {
        "id": "aHap29sCV2hG",
        "colab_type": "code",
        "colab": {
          "base_uri": "https://localhost:8080/",
          "height": 198
        },
        "outputId": "5a9a0582-0d95-46f0-94d6-0607b8027c30"
      },
      "source": [
        "import pandas as pd\n",
        "import numpy as np\n",
        "from sklearn import preprocessing, metrics\n",
        "from sklearn.model_selection import train_test_split\n",
        "import subprocess\n",
        "import argparse\n",
        "import os\n",
        "\n",
        "def get_args():\n",
        "\n",
        "    args_parser = argparse.ArgumentParser()\n",
        "    \n",
        "    args_parser.add_argument(\n",
        "          '--nrc',\n",
        "          help=\"\"\"\n",
        "          Path of the csv file for \n",
        "          \"\"\",\n",
        "          type=str\n",
        "    )\n",
        "    \n",
        "    args_parser.add_argument(\n",
        "          '--datapath',\n",
        "          help=\"\"\"\n",
        "          Path of the csv file for \n",
        "          \"\"\",\n",
        "          type=str\n",
        "    )\n",
        "    \n",
        "    args_parser.add_argument(\n",
        "          '--t',\n",
        "          help=\"\"\"\n",
        "          target variable\n",
        "          \"\"\",\n",
        "          type=str\n",
        "    )\n",
        "    \n",
        "    args_parser.add_argument(\n",
        "          '--k',\n",
        "          help=\"\"\"\n",
        "          number to limit the categorical variables conversion to numerical\n",
        "          \"\"\",\n",
        "          type=str\n",
        "    )\n",
        "    \n",
        "    args_parser.add_argument(\n",
        "          '--outputpath',\n",
        "          help=\"\"\"\n",
        "          path to where processed files are saved\n",
        "          \"\"\",\n",
        "          type=str\n",
        "    )\n",
        "    \n",
        "    return args_parser.parse_args()\n",
        "\n",
        "def get_obj_cols(df, k):\n",
        "    \"\"\"\n",
        "    Function returns the object features in the dataset\n",
        "    \"\"\"\n",
        "    cols = list(df.columns)\n",
        "    obj_cols = [cols[i[0]] for i in enumerate(df.dtypes) if i[1] == 'object']\n",
        "    for x in obj_cols:\n",
        "        if len(df[x].value_counts()) > len(df)/k:\n",
        "            obj_cols.remove(x)\n",
        "            df.drop([x], axis=1, inplace=True)\n",
        "    return obj_cols\n",
        "\n",
        "def pre_processing(df, Y, k, nrc):\n",
        "    \"\"\"\n",
        "    Function returns preprocess dataframe for training\n",
        "    \n",
        "    Args:\n",
        "        df: loaded dataframe\n",
        "        nrc: non relevant columns\n",
        "        oc: object type columns\n",
        "        \n",
        "    Returns:\n",
        "        df_trans: preprocessed dataframe\n",
        "    \"\"\"\n",
        "    \n",
        "    # Filling missing values\n",
        "    for i in df.columns[df.isnull().any(axis=0)]:\n",
        "        df[i].fillna(df[i].mean(), inplace=True)\n",
        "    print(\"The sum of the missing values in the dataframe,\", df.isnull().sum())\n",
        "    \n",
        "    # Filling dummies one-hot encoding\n",
        "    non_relevant_columns = nrc.split(',')\n",
        "    object_columns = get_obj_cols(df, k)\n",
        "    object_df = pd.get_dummies(df, columns=object_columns)\n",
        "    object_df.drop(non_relevant_columns, axis=1, inplace=True)\n",
        "    print(\"The datatypes in the dataframe are\", object_df.dtypes)\n",
        "    \n",
        "    # Quantile transformers\n",
        "    cols = list(object_df.columns)\n",
        "    q_transform = preprocessing.QuantileTransformer()\n",
        "    np_trans = q_transform.fit_transform(object_df)\n",
        "    df_trans = pd.DataFrame(np_trans)\n",
        "    df_trans.columns = object_df.columns\n",
        "    df_con = pd.concat([df_trans, Y], axis=1)\n",
        "    df_con.to_csv('preprocessed.csv', index=False)\n",
        "    return \"Success, file saved as preprocessed.csv\"\n",
        "\n",
        "if __name__ == \"__main__\":\n",
        "    \n",
        "    args = get_args()\n",
        "    df_p = args.datapath\n",
        "    outputpath = args.outputpath\n",
        "    target = args.t\n",
        "    nrc = args.nrc\n",
        "    k = int(args.k)\n",
        "    \n",
        "    main_path = os.getcwd()\n",
        "    subprocess.call(['aws', 's3', 'cp', str(df_p), './'])\n",
        "    \n",
        "    dp = os.path.join(main_path, 'data.csv')\n",
        "    df = pd.read_csv(dp)\n",
        "    Y = df[target]\n",
        "    df.drop([target], axis=1, inplace=True)\n",
        "    pre_processing(df, Y, k, nrc)\n",
        "    \n",
        "    subprocess.call(['aws', 's3', 'cp', 'preprocessed.csv', str(outputpath)])"
      ],
      "execution_count": null,
      "outputs": [
        {
          "output_type": "stream",
          "text": [
            "usage: ipykernel_launcher.py [-h] [--nrc NRC] [--datapath DATAPATH] [--t T]\n",
            "                             [--k K] [--outputpath OUTPUTPATH]\n",
            "ipykernel_launcher.py: error: unrecognized arguments: -f /root/.local/share/jupyter/runtime/kernel-89f73ba0-848f-4b47-902f-1deef9e8911b.json\n"
          ],
          "name": "stderr"
        },
        {
          "output_type": "error",
          "ename": "SystemExit",
          "evalue": "ignored",
          "traceback": [
            "An exception has occurred, use %tb to see the full traceback.\n",
            "\u001b[0;31mSystemExit\u001b[0m\u001b[0;31m:\u001b[0m 2\n"
          ]
        },
        {
          "output_type": "stream",
          "text": [
            "/usr/local/lib/python3.6/dist-packages/IPython/core/interactiveshell.py:2890: UserWarning: To exit: use 'exit', 'quit', or Ctrl-D.\n",
            "  warn(\"To exit: use 'exit', 'quit', or Ctrl-D.\", stacklevel=1)\n"
          ],
          "name": "stderr"
        }
      ]
    },
    {
      "cell_type": "code",
      "metadata": {
        "id": "aMZMtXCsWdjg",
        "colab_type": "code",
        "colab": {
          "base_uri": "https://localhost:8080/",
          "height": 130
        },
        "outputId": "ce4bdace-3532-4aa9-f053-ab33626b0d28"
      },
      "source": [
        "''' This file defines the anomaly detection using graph metrics '''\n",
        "\n",
        "import pandas as pd\n",
        "import seaborn\n",
        "import networkx as nx\n",
        "import matplotlib\n",
        "import matplotlib.pyplot as plt\n",
        "import numpy as np\n",
        "import os\n",
        "import time\n",
        "from sqlalchemy import create_engine\n",
        "import Get_Data as get_data\n",
        "import statistical_analysis\n",
        "import graph_analysis\n",
        "import numpy as np\n",
        "#import pdb\n",
        "\n",
        "GRAPH_THRESHOLD = 2 # 2X the std out of PCA\n",
        "\n",
        "\n",
        "def Generate_Edgelist (df,filename) :\n",
        "\t\"\"\"\n",
        "\tDescription: This function exports an edgelist from the DataFrame.\n",
        "\tINPUT: \n",
        "\t       df - type: DataFrame - This is the cleaned up datafram of the call log that contains the caller, callee columns\n",
        "\t       filename  - type: string - This is the filename that will store the edgelist\n",
        "\tOUTPUT: No output. Just stores the file in the file system\n",
        "\t\"\"\"\n",
        "\n",
        "\tedgelist = df[[\"callgno\",\"calldno\"]]\n",
        "\tedgelist = edgelist.astype(str)\n",
        "\tedgelist.to_csv(filename,index=False)\n",
        "\n",
        "# Now for the graph analysis\n",
        "\n",
        "def Generate_Graph (total_edges_filename,Anomalies):\n",
        "\t\"\"\"\n",
        "\tDescription: This function generates a subgraph of all the anomaly nodes.\n",
        "\tINPUT: \n",
        "\t\t\ttotal_edges_filename: This is a filename that has the edges. Comes from Generate_Edgelist\n",
        "\t\t\tAnomalies: This is a list of nodes that are anomalies\n",
        "\tOUTPUT: returns the subgraph in networkx format\n",
        "\t\"\"\"\n",
        "\t# this function builds the subgraph for the anomalies set. TBD : Build the subgraph using a longer time window\n",
        "\tTotalGraph = nx.read_edgelist(total_edges_filename,delimiter=',')\n",
        "\tAnomalies_Subgraph = nx.Graph()\n",
        "\tfor anomaly in Anomalies:\n",
        "\t\tAnomalies_Subgraph = nx.compose(Anomalies_Subgraph,nx.ego_graph(TotalGraph,anomaly,radius=3))\n",
        "\tprint len(Anomalies_Subgraph.nodes())\n",
        "\treturn Anomalies_Subgraph\n",
        "\n",
        "def GraphAnalysis(Anomalies_Subgraph):\n",
        "\t# Generate an output where the indexes are the Anomalies phone numbers and the columns are the graph metrics\n",
        "\tpagerank_matrix = nx.pagerank(Anomalies_Subgraph,max_iter=200)\n",
        "\tpagerank_matrix_df = pd.DataFrame.from_dict(pagerank_matrix,orient='index')\n",
        "\tpagerank_matrix_df.column=[\"Page Rank\"]\n",
        "\n",
        "\ttrianglecount_matrix = nx.triangles(Anomalies_Subgraph)\n",
        "\ttrianglecount_matrix_df = pd.DataFrame.from_dict(trianglecount_matrix,orient='index')\n",
        "\ttrianglecount_matrix_df.column=[\"Triangle Count\"]\n",
        "\ttrianglecount_matrix_df.describe()\n",
        "\n",
        "\tbody = pd.merge(pagerank_matrix_df,trianglecount_matrix_df,right_index=True,left_index=True)\n",
        "\tbody.head()\n",
        "\tbody = body.reset_index()\n",
        "\tbody.columns = [\"Phone Number\", \"Page Rank\", \"Triangle Count\"]\n",
        "\treturn body\n",
        "\n",
        "def Draw_Suspect_Fraud_Node (suspect, Anomalies_Subgraph):\n",
        "\timport d3py\n",
        "\timport networkx as nx   \n",
        "\timport random \n",
        "\tAnomalies_Subgraph = nx.ego_graph(Anomalies_Subgraph,suspect,radius=3)\n",
        "\tname = str(random.random()) + \"_graph\"\n",
        "\twith d3py.NetworkXFigure(Anomalies_Subgraph, name=name,width=1000, height=1000) as p:\n",
        "\t    p += d3py.ForceLayout()\n",
        "\t    p.css['.node'] = {'fill': 'blue', 'stroke': 'magenta'}\n",
        "\t    p.show() \n",
        "\n",
        "\n",
        "def Find_Graph_Anomalies (graph_metrics_df):\n",
        "\t# This function takes in the graph metrics and performs an anomaly analysis to identify the graph anomalies and returns those nodes\n",
        "\t# should scale the metrics first and then do one class SVM\n",
        "\tfrom sklearn.decomposition import PCA, KernelPCA\n",
        "\tX=graph_metrics_df.values[:,[1,2]]\n",
        "\tpca = PCA(n_components=2)\n",
        "\tpca.fit(X)\n",
        "\n",
        "\tX_lowed = pca.transform(np.real(X))\n",
        "\t#pdb.set_trace()\n",
        "\ttemp = X_lowed.copy()\n",
        "\ttemp[:,1]=temp[:,0]\n",
        "\ttemp[:,0]=range(0,len(temp))\n",
        "\tnp.savetxt(\"./static/PCA_Results.csv\", temp, delimiter=\",\", header = \"Index, PCA Transform\")\n",
        "#\tfig, ax = plt.subplots()\n",
        "#\tplt.plot(pca.explained_variance_)\n",
        "\tplt.plot(X_lowed[:,0],'o')\n",
        "\tplt.xlabel('Index')\n",
        "\tplt.ylabel('Highest Explanatory PCA Dimension')\n",
        "\tplt.title('Anomalies on Graph Metrics using PCA')\n",
        "\tplt.savefig(\"./static/PCA_Analysis.png\",bbox_inches='tight')\n",
        "\tplt.close('all')\n",
        "\n",
        "\tNumOfFrauds = len(X_lowed[abs(X_lowed[:,0]) > (GRAPH_THRESHOLD*abs(np.std(X_lowed[:,0])))])\n",
        "\tprint \"num of frauds \", NumOfFrauds\n",
        "\tindices = np.argsort(X_lowed[:,0])[:len(X_lowed)-(NumOfFrauds+1):-1]\n",
        "\tgraph_metrics_df[\"Phone Number\"].apply(lambda x : x.encode('utf-8'))\n",
        "\tSuspectFraudPhoneNumbers = graph_metrics_df.iloc[indices][\"Phone Number\"].values\n",
        "\treturn SuspectFraudPhoneNumbers\n"
      ],
      "execution_count": null,
      "outputs": [
        {
          "output_type": "error",
          "ename": "SyntaxError",
          "evalue": "ignored",
          "traceback": [
            "\u001b[0;36m  File \u001b[0;32m\"<ipython-input-2-d21bdb18d0da>\"\u001b[0;36m, line \u001b[0;32m49\u001b[0m\n\u001b[0;31m    print len(Anomalies_Subgraph.nodes())\u001b[0m\n\u001b[0m            ^\u001b[0m\n\u001b[0;31mSyntaxError\u001b[0m\u001b[0;31m:\u001b[0m invalid syntax\n"
          ]
        }
      ]
    },
    {
      "cell_type": "code",
      "metadata": {
        "id": "5gcQXzYsbifQ",
        "colab_type": "code",
        "colab": {}
      },
      "source": [
        "# Splitting data into 4 sets\n",
        "# 1. Shuffle/randomize data\n",
        "# 2. One-hot encoding\n",
        "# 3. Normalize\n",
        "# 4. Splitting up X/y values\n",
        "# 5. Convert data_frames to numpy arrays (float32)\n",
        "# 6. Splitting the final data into X/y train/test\n",
        "\n",
        "# Shuffle and randomize data\n",
        "shuffled_data = train.sample(frac=1)\n",
        "# Change Class column into Class_0 ([1 0] for legit data) and Class_1 ([0 1] for fraudulent data)\n",
        "one_hot_data = pd.get_dummies(shuffled_data, columns=['isFraud'])\n",
        "# Change all values into numbers between 0 and 1\n",
        "normalized_data = (one_hot_data - one_hot_data.min()) / (one_hot_data.max() - one_hot_data.min())\n",
        "# Store just columns V1 through V28 in df_X and columns Class_0 and Class_1 in df_y\n",
        "df_X = normalized_data.drop(['Class_0', 'Class_1'], axis=1)\n",
        "df_y = normalized_data[['Class_0', 'Class_1']]\n",
        "# Convert both data_frames into np arrays of float32\n",
        "ar_X, ar_y = np.asarray(df_X.values, dtype='float32'), np.asarray(df_y.values, dtype='float32')\n",
        "# Allocate first 80% of data into training data and remaining 20% into testing data\n",
        "train_size = int(0.8 * len(ar_X))\n",
        "(raw_X_train, raw_y_train) = (ar_X[:train_size], ar_y[:train_size])\n",
        "(raw_X_test, raw_y_test) = (ar_X[train_size:], ar_y[train_size:])\n",
        "\n",
        "# Gets a percent of fraud vs legit transactions (0.0017% of transactions are fraudulent)\n",
        "count_legit, count_fraud = np.unique(train['isFraud'], return_counts=True)[1]\n",
        "fraud_ratio = float(count_fraud / (count_legit + count_fraud))\n",
        "print('Percent of fraudulent transactions: ', fraud_ratio)\n",
        "\n",
        "# Applies a logit weighting of 578 (1/0.0017) to fraudulent transactions to cause model to pay more attention to them\n",
        "weighting = 1 / fraud_ratio\n",
        "raw_y_train[:, 1] = raw_y_train[:, 1] * weighting\n",
        "\n",
        "import tensorflow as tf\n",
        "\n",
        "# 30 cells for the input\n",
        "input_dimensions = ar_X.shape[1]\n",
        "# 2 cells for the output\n",
        "output_dimensions = ar_y.shape[1]\n",
        "# 100 cells for the 1st layer\n",
        "num_layer_1_cells = 100\n",
        "# 150 cells for the second layer\n",
        "num_layer_2_cells = 150\n",
        "\n",
        "# We will use these as inputs to the model when it comes time to train it (assign values at run time)\n",
        "X_train_node = tf.placeholder(tf.float32, [None, input_dimensions], name='X_train')\n",
        "y_train_node = tf.placeholder(tf.float32, [None, output_dimensions], name='y_train')\n",
        "\n",
        "# We will use these as inputs to the model once it comes time to test it\n",
        "X_test_node = tf.constant(raw_X_test, name='X_test')\n",
        "y_test_node = tf.constant(raw_y_test, name='y_test')\n",
        "\n",
        "# First layer takes in input and passes output to 2nd layer\n",
        "weight_1_node = tf.Variable(tf.zeros([input_dimensions, num_layer_1_cells]), name='weight_1')\n",
        "biases_1_node = tf.Variable(tf.zeros([num_layer_1_cells]), name='biases_1')\n",
        "\n",
        "# Second layer takes in input from 1st layer and passes output to 3rd layer\n",
        "weight_2_node = tf.Variable(tf.zeros([num_layer_1_cells, num_layer_2_cells]), name='weight_2')\n",
        "biases_2_node = tf.Variable(tf.zeros([num_layer_2_cells]), name='biases_2')\n",
        "\n",
        "# Third layer takes in input from 2nd layer and outputs [1 0] or [0 1] depending on fraud vs legit\n",
        "weight_3_node = tf.Variable(tf.zeros([num_layer_2_cells, output_dimensions]), name='weight_3')\n",
        "biases_3_node = tf.Variable(tf.zeros([output_dimensions]), name='biases_3')\n",
        "\n",
        "\n",
        "# Function to run an input tensor through the 3 layers and output a tensor that will give us a fraud/legit result\n",
        "# Each layer uses a different function to fit lines through the data and predict whether a given input tensor will \\\n",
        "#   result in a fraudulent or legitimate transaction\n",
        "def network(input_tensor):\n",
        "    # Sigmoid fits modified data well\n",
        "    layer1 = tf.nn.sigmoid(tf.matmul(input_tensor, weight_1_node) + biases_1_node)\n",
        "    # Dropout prevents model from becoming lazy and over confident\n",
        "    layer2 = tf.nn.dropout(tf.nn.sigmoid(tf.matmul(layer1, weight_2_node) + biases_2_node), 0.85)\n",
        "    # Softmax works very well with one hot encoding which is how results are outputted\n",
        "    layer3 = tf.nn.softmax(tf.matmul(layer2, weight_3_node) + biases_3_node)\n",
        "    return layer3\n",
        "\n",
        "\n",
        "# Used to predict what results will be given training or testing input data\n",
        "# Remember, X_train_node is just a placeholder for now. We will enter values at run time\n",
        "y_train_prediction = network(X_train_node)\n",
        "y_test_prediction = network(X_test_node)\n",
        "\n",
        "# Cross entropy loss function measures differences between actual output and predicted output\n",
        "cross_entropy = tf.losses.softmax_cross_entropy(y_train_node, y_train_prediction)\n",
        "\n",
        "# Adam optimizer function will try to minimize loss (cross_entropy) but changing the 3 layers' variable values at a\n",
        "#   learning rate of 0.005\n",
        "optimizer = tf.train.AdamOptimizer(0.005).minimize(cross_entropy)\n",
        "\n",
        "\n",
        "# Function to calculate the accuracy of the actual result vs the predicted result\n",
        "def calculate_accuracy(actual, predicted):\n",
        "    actual = np.argmax(actual, 1)\n",
        "    predicted = np.argmax(predicted, 1)\n",
        "    return (100 * np.sum(np.equal(predicted, actual)) / predicted.shape[0])\n",
        "\n",
        "num_epochs = 100\n",
        "\n",
        "import time\n",
        "\n",
        "with tf.Session() as session:\n",
        "    tf.global_variables_initializer().run()\n",
        "    for epoch in range(num_epochs):\n",
        "\n",
        "        start_time = time.time()\n",
        "\n",
        "        _, cross_entropy_score = session.run([optimizer, cross_entropy],\n",
        "                                             feed_dict={X_train_node: raw_X_train, y_train_node: raw_y_train})\n",
        "\n",
        "        if epoch % 10 == 0:\n",
        "            timer = time.time() - start_time\n",
        "\n",
        "            print('Epoch: {}'.format(epoch), 'Current loss: {0:.4f}'.format(cross_entropy_score),\n",
        "                  'Elapsed time: {0:.2f} seconds'.format(timer))\n",
        "\n",
        "            final_y_test = y_test_node.eval()\n",
        "            final_y_test_prediction = y_test_prediction.eval()\n",
        "            final_accuracy = calculate_accuracy(final_y_test, final_y_test_prediction)\n",
        "            print(\"Current accuracy: {0:.2f}%\".format(final_accuracy))\n",
        "\n",
        "    final_y_test = y_test_node.eval()\n",
        "    final_y_test_prediction = y_test_prediction.eval()\n",
        "    final_accuracy = calculate_accuracy(final_y_test, final_y_test_prediction)\n",
        "    print(\"Final accuracy: {0:.2f}%\".format(final_accuracy))\n",
        "\n",
        "final_fraud_y_test = final_y_test[final_y_test[:, 1] == 1]\n",
        "final_fraud_y_test_prediction = final_y_test_prediction[final_y_test[:, 1] == 1]\n",
        "final_fraud_accuracy = calculate_accuracy(final_fraud_y_test, final_fraud_y_test_prediction)\n",
        "print('Final fraud specific accuracy: {0:.2f}%'.format(final_fraud_accuracy))\n"
      ],
      "execution_count": null,
      "outputs": []
    },
    {
      "cell_type": "code",
      "metadata": {
        "id": "bbR6pFGxctb9",
        "colab_type": "code",
        "colab": {}
      },
      "source": [
        "import pandas as pd\n",
        "from py2neo import Graph"
      ],
      "execution_count": 7,
      "outputs": []
    },
    {
      "cell_type": "code",
      "metadata": {
        "id": "pIkRhoy7gnol",
        "colab_type": "code",
        "colab": {
          "base_uri": "https://localhost:8080/",
          "height": 71
        },
        "outputId": "6fa889fa-aa4d-4e7a-ca6b-cccba73c9e68"
      },
      "source": [
        "import pandas as pd\n",
        "\n",
        "df = pd.DataFrame({'ID':[1,2,3,4,5,6], \n",
        "                   'First Name':['Felix', 'Jean', 'James', 'Daphne', 'James', 'Peter'], \n",
        "                   'Family Name': ['Revert', 'Durand', 'Wright', 'Hull', 'Conrad', 'Donovan'],\n",
        "                   'Phone number': ['+33 6 12 34 56 78', '+33 7 00 00 00 00', '+33 6 12 34 56 78', '+33 6 99 99 99 99', '+852 0123 4567', '+852 0123 4567'],\n",
        "                   'Email': ['felix.revert@gmail.com', 'jean.durand@gmail.com', 'j.custom@gmail.com', pd.np.nan, 'j.custom@gmail.com', pd.np.nan]})\n",
        "\n",
        "\n",
        "# G.add_nodes_from(df.ID.unique().tolist(), label='user')"
      ],
      "execution_count": 23,
      "outputs": [
        {
          "output_type": "stream",
          "text": [
            "/usr/local/lib/python3.6/dist-packages/ipykernel_launcher.py:7: FutureWarning: The pandas.np module is deprecated and will be removed from pandas in a future version. Import numpy directly instead\n",
            "  import sys\n"
          ],
          "name": "stderr"
        }
      ]
    },
    {
      "cell_type": "code",
      "metadata": {
        "id": "TS7YCWmqknBV",
        "colab_type": "code",
        "colab": {
          "base_uri": "https://localhost:8080/",
          "height": 204
        },
        "outputId": "f3c9eba9-2d2f-4e11-df05-2e8fa555ec0e"
      },
      "source": [
        "column_edge = 'Phone number'\n",
        "column_ID = 'ID'\n",
        "\n",
        "data_to_merge = df[[column_ID, column_edge]].dropna(subset=[column_edge]).drop_duplicates() # select columns, remove NaN\n",
        "\n",
        "# To create connections between people who have the same number,\n",
        "# join data with itself on the 'ID' column.\n",
        "data_to_merge = data_to_merge.merge(\n",
        "    data_to_merge[[column_ID, column_edge]].rename(columns={column_ID:column_ID+\"_2\"}), \n",
        "    on=column_edge\n",
        ")\n",
        "df.head()"
      ],
      "execution_count": 24,
      "outputs": [
        {
          "output_type": "execute_result",
          "data": {
            "text/html": [
              "<div>\n",
              "<style scoped>\n",
              "    .dataframe tbody tr th:only-of-type {\n",
              "        vertical-align: middle;\n",
              "    }\n",
              "\n",
              "    .dataframe tbody tr th {\n",
              "        vertical-align: top;\n",
              "    }\n",
              "\n",
              "    .dataframe thead th {\n",
              "        text-align: right;\n",
              "    }\n",
              "</style>\n",
              "<table border=\"1\" class=\"dataframe\">\n",
              "  <thead>\n",
              "    <tr style=\"text-align: right;\">\n",
              "      <th></th>\n",
              "      <th>ID</th>\n",
              "      <th>First Name</th>\n",
              "      <th>Family Name</th>\n",
              "      <th>Phone number</th>\n",
              "      <th>Email</th>\n",
              "    </tr>\n",
              "  </thead>\n",
              "  <tbody>\n",
              "    <tr>\n",
              "      <th>0</th>\n",
              "      <td>1</td>\n",
              "      <td>Felix</td>\n",
              "      <td>Revert</td>\n",
              "      <td>+33 6 12 34 56 78</td>\n",
              "      <td>felix.revert@gmail.com</td>\n",
              "    </tr>\n",
              "    <tr>\n",
              "      <th>1</th>\n",
              "      <td>2</td>\n",
              "      <td>Jean</td>\n",
              "      <td>Durand</td>\n",
              "      <td>+33 7 00 00 00 00</td>\n",
              "      <td>jean.durand@gmail.com</td>\n",
              "    </tr>\n",
              "    <tr>\n",
              "      <th>2</th>\n",
              "      <td>3</td>\n",
              "      <td>James</td>\n",
              "      <td>Wright</td>\n",
              "      <td>+33 6 12 34 56 78</td>\n",
              "      <td>j.custom@gmail.com</td>\n",
              "    </tr>\n",
              "    <tr>\n",
              "      <th>3</th>\n",
              "      <td>4</td>\n",
              "      <td>Daphne</td>\n",
              "      <td>Hull</td>\n",
              "      <td>+33 6 99 99 99 99</td>\n",
              "      <td>NaN</td>\n",
              "    </tr>\n",
              "    <tr>\n",
              "      <th>4</th>\n",
              "      <td>5</td>\n",
              "      <td>James</td>\n",
              "      <td>Conrad</td>\n",
              "      <td>+852 0123 4567</td>\n",
              "      <td>j.custom@gmail.com</td>\n",
              "    </tr>\n",
              "  </tbody>\n",
              "</table>\n",
              "</div>"
            ],
            "text/plain": [
              "   ID First Name Family Name       Phone number                   Email\n",
              "0   1      Felix      Revert  +33 6 12 34 56 78  felix.revert@gmail.com\n",
              "1   2       Jean      Durand  +33 7 00 00 00 00   jean.durand@gmail.com\n",
              "2   3      James      Wright  +33 6 12 34 56 78      j.custom@gmail.com\n",
              "3   4     Daphne        Hull  +33 6 99 99 99 99                     NaN\n",
              "4   5      James      Conrad     +852 0123 4567      j.custom@gmail.com"
            ]
          },
          "metadata": {
            "tags": []
          },
          "execution_count": 24
        }
      ]
    },
    {
      "cell_type": "code",
      "metadata": {
        "id": "x2NHx7cPhIZR",
        "colab_type": "code",
        "colab": {
          "base_uri": "https://localhost:8080/",
          "height": 359
        },
        "outputId": "22374dbe-66bb-4a8d-edbf-f0e3aebabd4f"
      },
      "source": [
        "data_to_merge"
      ],
      "execution_count": 25,
      "outputs": [
        {
          "output_type": "execute_result",
          "data": {
            "text/html": [
              "<div>\n",
              "<style scoped>\n",
              "    .dataframe tbody tr th:only-of-type {\n",
              "        vertical-align: middle;\n",
              "    }\n",
              "\n",
              "    .dataframe tbody tr th {\n",
              "        vertical-align: top;\n",
              "    }\n",
              "\n",
              "    .dataframe thead th {\n",
              "        text-align: right;\n",
              "    }\n",
              "</style>\n",
              "<table border=\"1\" class=\"dataframe\">\n",
              "  <thead>\n",
              "    <tr style=\"text-align: right;\">\n",
              "      <th></th>\n",
              "      <th>ID</th>\n",
              "      <th>Phone number</th>\n",
              "      <th>ID_2</th>\n",
              "    </tr>\n",
              "  </thead>\n",
              "  <tbody>\n",
              "    <tr>\n",
              "      <th>0</th>\n",
              "      <td>1</td>\n",
              "      <td>+33 6 12 34 56 78</td>\n",
              "      <td>1</td>\n",
              "    </tr>\n",
              "    <tr>\n",
              "      <th>1</th>\n",
              "      <td>1</td>\n",
              "      <td>+33 6 12 34 56 78</td>\n",
              "      <td>3</td>\n",
              "    </tr>\n",
              "    <tr>\n",
              "      <th>2</th>\n",
              "      <td>3</td>\n",
              "      <td>+33 6 12 34 56 78</td>\n",
              "      <td>1</td>\n",
              "    </tr>\n",
              "    <tr>\n",
              "      <th>3</th>\n",
              "      <td>3</td>\n",
              "      <td>+33 6 12 34 56 78</td>\n",
              "      <td>3</td>\n",
              "    </tr>\n",
              "    <tr>\n",
              "      <th>4</th>\n",
              "      <td>2</td>\n",
              "      <td>+33 7 00 00 00 00</td>\n",
              "      <td>2</td>\n",
              "    </tr>\n",
              "    <tr>\n",
              "      <th>5</th>\n",
              "      <td>4</td>\n",
              "      <td>+33 6 99 99 99 99</td>\n",
              "      <td>4</td>\n",
              "    </tr>\n",
              "    <tr>\n",
              "      <th>6</th>\n",
              "      <td>5</td>\n",
              "      <td>+852 0123 4567</td>\n",
              "      <td>5</td>\n",
              "    </tr>\n",
              "    <tr>\n",
              "      <th>7</th>\n",
              "      <td>5</td>\n",
              "      <td>+852 0123 4567</td>\n",
              "      <td>6</td>\n",
              "    </tr>\n",
              "    <tr>\n",
              "      <th>8</th>\n",
              "      <td>6</td>\n",
              "      <td>+852 0123 4567</td>\n",
              "      <td>5</td>\n",
              "    </tr>\n",
              "    <tr>\n",
              "      <th>9</th>\n",
              "      <td>6</td>\n",
              "      <td>+852 0123 4567</td>\n",
              "      <td>6</td>\n",
              "    </tr>\n",
              "  </tbody>\n",
              "</table>\n",
              "</div>"
            ],
            "text/plain": [
              "   ID       Phone number  ID_2\n",
              "0   1  +33 6 12 34 56 78     1\n",
              "1   1  +33 6 12 34 56 78     3\n",
              "2   3  +33 6 12 34 56 78     1\n",
              "3   3  +33 6 12 34 56 78     3\n",
              "4   2  +33 7 00 00 00 00     2\n",
              "5   4  +33 6 99 99 99 99     4\n",
              "6   5     +852 0123 4567     5\n",
              "7   5     +852 0123 4567     6\n",
              "8   6     +852 0123 4567     5\n",
              "9   6     +852 0123 4567     6"
            ]
          },
          "metadata": {
            "tags": []
          },
          "execution_count": 25
        }
      ]
    },
    {
      "cell_type": "code",
      "metadata": {
        "id": "AC7SD7rckd9D",
        "colab_type": "code",
        "colab": {}
      },
      "source": [
        "data_to_merge = df[[column_ID, column_edge]].dropna(subset=[column_edge]).drop_duplicates() # select columns, remove NaN"
      ],
      "execution_count": 11,
      "outputs": []
    },
    {
      "cell_type": "code",
      "metadata": {
        "id": "K9vLTWbKkrrJ",
        "colab_type": "code",
        "colab": {}
      },
      "source": [
        "# By joining the data with itself, people will have a connection with themselves.\n",
        "# Remove self connections, to keep only connected people who are different.\n",
        "d = data_to_merge[~(data_to_merge[column_ID]==data_to_merge[column_ID+\"_2\"])] \\\n",
        "    .dropna()[[column_ID, column_ID+\"_2\", column_edge]]\n",
        "    \n",
        "# To avoid counting twice the connections (person 1 connected to person 2 and person 2 connected to person 1)\n",
        "# we force the first ID to be \"lower\" then ID_2\n",
        "d.drop(d.loc[d[column_ID+\"_2\"]<d[column_ID]].index.tolist(), inplace=True)"
      ],
      "execution_count": 26,
      "outputs": []
    },
    {
      "cell_type": "code",
      "metadata": {
        "id": "-mEb71_Zk7js",
        "colab_type": "code",
        "colab": {
          "base_uri": "https://localhost:8080/",
          "height": 111
        },
        "outputId": "cb2c1629-6baf-49c9-b9db-8fdae38dea81"
      },
      "source": [
        "d.head()"
      ],
      "execution_count": 27,
      "outputs": [
        {
          "output_type": "execute_result",
          "data": {
            "text/html": [
              "<div>\n",
              "<style scoped>\n",
              "    .dataframe tbody tr th:only-of-type {\n",
              "        vertical-align: middle;\n",
              "    }\n",
              "\n",
              "    .dataframe tbody tr th {\n",
              "        vertical-align: top;\n",
              "    }\n",
              "\n",
              "    .dataframe thead th {\n",
              "        text-align: right;\n",
              "    }\n",
              "</style>\n",
              "<table border=\"1\" class=\"dataframe\">\n",
              "  <thead>\n",
              "    <tr style=\"text-align: right;\">\n",
              "      <th></th>\n",
              "      <th>ID</th>\n",
              "      <th>ID_2</th>\n",
              "      <th>Phone number</th>\n",
              "    </tr>\n",
              "  </thead>\n",
              "  <tbody>\n",
              "    <tr>\n",
              "      <th>1</th>\n",
              "      <td>1</td>\n",
              "      <td>3</td>\n",
              "      <td>+33 6 12 34 56 78</td>\n",
              "    </tr>\n",
              "    <tr>\n",
              "      <th>7</th>\n",
              "      <td>5</td>\n",
              "      <td>6</td>\n",
              "      <td>+852 0123 4567</td>\n",
              "    </tr>\n",
              "  </tbody>\n",
              "</table>\n",
              "</div>"
            ],
            "text/plain": [
              "   ID  ID_2       Phone number\n",
              "1   1     3  +33 6 12 34 56 78\n",
              "7   5     6     +852 0123 4567"
            ]
          },
          "metadata": {
            "tags": []
          },
          "execution_count": 27
        }
      ]
    },
    {
      "cell_type": "code",
      "metadata": {
        "id": "IItTrAMnk-FC",
        "colab_type": "code",
        "colab": {}
      },
      "source": [
        "import networkx as nx\n",
        "\n",
        "G = nx.from_pandas_edgelist(df=d, source=column_ID, target=column_ID+'_2', edge_attr=column_edge)\n",
        "\n",
        "G.add_nodes_from(nodes_for_adding=df.ID.tolist())"
      ],
      "execution_count": 28,
      "outputs": []
    },
    {
      "cell_type": "code",
      "metadata": {
        "id": "XBa2DnOflDPn",
        "colab_type": "code",
        "colab": {
          "base_uri": "https://localhost:8080/",
          "height": 34
        },
        "outputId": "301b198b-dbd0-4a7a-a971-7a756d0ac89a"
      },
      "source": [
        "G.nodes()"
      ],
      "execution_count": 29,
      "outputs": [
        {
          "output_type": "execute_result",
          "data": {
            "text/plain": [
              "NodeView((1, 3, 5, 6, 2, 4))"
            ]
          },
          "metadata": {
            "tags": []
          },
          "execution_count": 29
        }
      ]
    },
    {
      "cell_type": "code",
      "metadata": {
        "id": "KljxV3VelGB4",
        "colab_type": "code",
        "colab": {}
      },
      "source": [
        "#https://towardsdatascience.com/getting-started-with-graph-analysis-in-python-with-pandas-and-networkx-5e2d2f82f18e"
      ],
      "execution_count": 22,
      "outputs": []
    },
    {
      "cell_type": "code",
      "metadata": {
        "id": "gcPKKA4plLny",
        "colab_type": "code",
        "colab": {}
      },
      "source": [
        "column_edge = 'Email'\n",
        "column_ID = 'ID'\n",
        "\n",
        "data_to_merge = df[[column_ID, column_edge]].dropna(subset=[column_edge]).drop_duplicates()\n",
        "\n",
        "data_to_merge = data_to_merge.merge(\n",
        "    data_to_merge[[column_ID, column_edge]].rename(columns={column_ID:column_ID+\"_2\"}), \n",
        "    on=column_edge\n",
        ")\n",
        "\n",
        "d = data_to_merge[~(data_to_merge[column_ID]==data_to_merge[column_ID+\"_2\"])] \\\n",
        "    .dropna()[[column_ID, column_ID+\"_2\", column_edge]]\n",
        "\n",
        "d.drop(d.loc[d[column_ID+\"_2\"]<d[column_ID]].index.tolist(), inplace=True)"
      ],
      "execution_count": 30,
      "outputs": []
    },
    {
      "cell_type": "code",
      "metadata": {
        "id": "l0UI1u8FlejY",
        "colab_type": "code",
        "colab": {
          "base_uri": "https://localhost:8080/",
          "height": 80
        },
        "outputId": "8e29edfb-6b0e-425b-8d22-6a5fea6e439a"
      },
      "source": [
        "d"
      ],
      "execution_count": 31,
      "outputs": [
        {
          "output_type": "execute_result",
          "data": {
            "text/html": [
              "<div>\n",
              "<style scoped>\n",
              "    .dataframe tbody tr th:only-of-type {\n",
              "        vertical-align: middle;\n",
              "    }\n",
              "\n",
              "    .dataframe tbody tr th {\n",
              "        vertical-align: top;\n",
              "    }\n",
              "\n",
              "    .dataframe thead th {\n",
              "        text-align: right;\n",
              "    }\n",
              "</style>\n",
              "<table border=\"1\" class=\"dataframe\">\n",
              "  <thead>\n",
              "    <tr style=\"text-align: right;\">\n",
              "      <th></th>\n",
              "      <th>ID</th>\n",
              "      <th>ID_2</th>\n",
              "      <th>Email</th>\n",
              "    </tr>\n",
              "  </thead>\n",
              "  <tbody>\n",
              "    <tr>\n",
              "      <th>3</th>\n",
              "      <td>3</td>\n",
              "      <td>5</td>\n",
              "      <td>j.custom@gmail.com</td>\n",
              "    </tr>\n",
              "  </tbody>\n",
              "</table>\n",
              "</div>"
            ],
            "text/plain": [
              "   ID  ID_2               Email\n",
              "3   3     5  j.custom@gmail.com"
            ]
          },
          "metadata": {
            "tags": []
          },
          "execution_count": 31
        }
      ]
    },
    {
      "cell_type": "code",
      "metadata": {
        "id": "9fDmcAzQlf_k",
        "colab_type": "code",
        "colab": {}
      },
      "source": [
        "# Create the connections in the graph\n",
        "links_attributes = {tuple(row[[column_ID, column_ID+\"_2\"]]): {column_edge: row[column_edge]} for i,row in d.iterrows()}\n",
        "\n",
        "G.add_edges_from(links_attributes) # create the connection, without attribute. Check it with G.get_edge_data(3,5)\n",
        "nx.set_edge_attributes(G=G, values=links_attributes) # adds the attribute. Check it with G.get_edge_data(3,5)"
      ],
      "execution_count": 32,
      "outputs": []
    },
    {
      "cell_type": "code",
      "metadata": {
        "id": "gkouFzwGlhoX",
        "colab_type": "code",
        "colab": {
          "base_uri": "https://localhost:8080/",
          "height": 319
        },
        "outputId": "db35c076-e904-4a32-8480-ea758dc5152a"
      },
      "source": [
        "%matplotlib inline\n",
        "nx.draw(G)"
      ],
      "execution_count": 33,
      "outputs": [
        {
          "output_type": "display_data",
          "data": {
            "image/png": "[encoded data removed]",
            "text/plain": [
              "<Figure size 432x288 with 1 Axes>"
            ]
          },
          "metadata": {
            "tags": []
          }
        }
      ]
    },
    {
      "cell_type": "code",
      "metadata": {
        "id": "H-jQoR-VljVB",
        "colab_type": "code",
        "colab": {
          "base_uri": "https://localhost:8080/",
          "height": 119
        },
        "outputId": "fd8cc821-8591-487a-b034-05719dc6bb95"
      },
      "source": [
        "{row[column_ID]:row['First Name'] +' '+ row['Family Name'] for i,row in df.iterrows()}"
      ],
      "execution_count": 34,
      "outputs": [
        {
          "output_type": "execute_result",
          "data": {
            "text/plain": [
              "{1: 'Felix Revert',\n",
              " 2: 'Jean Durand',\n",
              " 3: 'James Wright',\n",
              " 4: 'Daphne Hull',\n",
              " 5: 'James Conrad',\n",
              " 6: 'Peter Donovan'}"
            ]
          },
          "metadata": {
            "tags": []
          },
          "execution_count": 34
        }
      ]
    },
    {
      "cell_type": "code",
      "metadata": {
        "id": "ey9FnqBEllV5",
        "colab_type": "code",
        "colab": {}
      },
      "source": [
        "nx.set_node_attributes(G, {row[column_ID]:{'Name': row['First Name'] +' '+ row['Family Name']} for i,row in df.iterrows()})"
      ],
      "execution_count": 35,
      "outputs": []
    },
    {
      "cell_type": "code",
      "metadata": {
        "id": "hAXisucElmQK",
        "colab_type": "code",
        "colab": {}
      },
      "source": [
        "EDGE_SIZE = {\n",
        "    'Phone number': 2,\n",
        "    'Email': 1,\n",
        "}\n",
        "\n",
        "EDGE_COLOR = {\n",
        "    'Phone number': 'purple',\n",
        "    'Email': 'red',\n",
        "}\n",
        "\n",
        "def clean_edge(edge):\n",
        "    s.edge[edge[0], edge[1]].values()\n",
        "\n",
        "def c_(list_edges): return [a for a in list_edges if a in list(EDGE_COLOR.keys())]\n",
        "    \n",
        "# For nx.Graph()\n",
        "def edge_sizes(s): return [EDGE_SIZE[c_(list(s.edges[edge[0], edge[1]].keys()))[-1]] for edge in s.edges()] # /!\\ multiple links => one size\n",
        "def edge_colors(s): return [EDGE_COLOR[c_(list(s.edges[edge[0], edge[1]].keys()))[-1]] for edge in s.edges()] # /!\\ multiple links => one color\n",
        "\n",
        "# For nx.MultiDiGraph()\n",
        "# def edge_sizes(s): return [EDGE_SIZE[s.edge[edge[0]][edge[1]][0]['label']] for edge in s.edges()] # /!\\ multiple links => one size\n",
        "# def edge_colors(s): return [EDGE_COLOR[s.edge[edge[0]][edge[1]][0]['label']] for edge in s.edges()] # /!\\ multiple links => one color\n",
        "\n",
        "def draw(s):\n",
        "    pos = nx.spring_layout(s, scale=0.5)\n",
        "    node_labels = dict((n,d['Name']) for n,d in s.nodes(data=True))\n",
        "#     labels = {**node_labels, **edge_labels}\n",
        "    nx.draw(s, pos=pos, width=edge_sizes(s), edge_color=edge_colors(s), alpha=0.8, arrows=False, node_color='lightgrey', node_size=400,\n",
        "            labels=node_labels, \n",
        "            font_color='black', font_size=8, font_weight='bold',\n",
        "           )\n",
        "    edge_labels = dict(((u,v),list(d.values())[0]) for u,v,d in G.edges(data=True))\n",
        "    nx.draw_networkx_edge_labels(G, pos, edge_labels = edge_labels, font_size=8)"
      ],
      "execution_count": 36,
      "outputs": []
    },
    {
      "cell_type": "code",
      "metadata": {
        "id": "2btChX9Gln4v",
        "colab_type": "code",
        "colab": {
          "base_uri": "https://localhost:8080/",
          "height": 319
        },
        "outputId": "e7f33e23-91e1-49d9-e977-72fdded80e0a"
      },
      "source": [
        "draw(nx.ego_graph(G=G, n=1, radius=3))"
      ],
      "execution_count": 37,
      "outputs": [
        {
          "output_type": "display_data",
          "data": {
            "image/png": "[encoded data removed]",
            "text/plain": [
              "<Figure size 432x288 with 1 Axes>"
            ]
          },
          "metadata": {
            "tags": []
          }
        }
      ]
    },
    {
      "cell_type": "code",
      "metadata": {
        "id": "EWKHP9E2lo_y",
        "colab_type": "code",
        "colab": {
          "base_uri": "https://localhost:8080/",
          "height": 204
        },
        "outputId": "ef1b2daa-111b-4d3e-f58d-39fb42e890c6"
      },
      "source": [
        "#Automated detection of strange patterns\n",
        "degrees = list(nx.degree(G))\n",
        "pd.DataFrame([list(d) for d in degrees], columns=['ID', 'degree']).sort_values('degree', ascending=False).head(5)"
      ],
      "execution_count": 38,
      "outputs": [
        {
          "output_type": "execute_result",
          "data": {
            "text/html": [
              "<div>\n",
              "<style scoped>\n",
              "    .dataframe tbody tr th:only-of-type {\n",
              "        vertical-align: middle;\n",
              "    }\n",
              "\n",
              "    .dataframe tbody tr th {\n",
              "        vertical-align: top;\n",
              "    }\n",
              "\n",
              "    .dataframe thead th {\n",
              "        text-align: right;\n",
              "    }\n",
              "</style>\n",
              "<table border=\"1\" class=\"dataframe\">\n",
              "  <thead>\n",
              "    <tr style=\"text-align: right;\">\n",
              "      <th></th>\n",
              "      <th>ID</th>\n",
              "      <th>degree</th>\n",
              "    </tr>\n",
              "  </thead>\n",
              "  <tbody>\n",
              "    <tr>\n",
              "      <th>1</th>\n",
              "      <td>3</td>\n",
              "      <td>2</td>\n",
              "    </tr>\n",
              "    <tr>\n",
              "      <th>2</th>\n",
              "      <td>5</td>\n",
              "      <td>2</td>\n",
              "    </tr>\n",
              "    <tr>\n",
              "      <th>0</th>\n",
              "      <td>1</td>\n",
              "      <td>1</td>\n",
              "    </tr>\n",
              "    <tr>\n",
              "      <th>3</th>\n",
              "      <td>6</td>\n",
              "      <td>1</td>\n",
              "    </tr>\n",
              "    <tr>\n",
              "      <th>4</th>\n",
              "      <td>2</td>\n",
              "      <td>0</td>\n",
              "    </tr>\n",
              "  </tbody>\n",
              "</table>\n",
              "</div>"
            ],
            "text/plain": [
              "   ID  degree\n",
              "1   3       2\n",
              "2   5       2\n",
              "0   1       1\n",
              "3   6       1\n",
              "4   2       0"
            ]
          },
          "metadata": {
            "tags": []
          },
          "execution_count": 38
        }
      ]
    },
    {
      "cell_type": "code",
      "metadata": {
        "id": "ptYFUK_tlsbs",
        "colab_type": "code",
        "colab": {
          "base_uri": "https://localhost:8080/",
          "height": 319
        },
        "outputId": "849fa3ec-5d34-4353-fdf1-30827a3c89c7"
      },
      "source": [
        "draw(nx.ego_graph(G=G, n=3, radius=2))"
      ],
      "execution_count": 39,
      "outputs": [
        {
          "output_type": "display_data",
          "data": {
            "image/png": "[encoded data removed]",
            "text/plain": [
              "<Figure size 432x288 with 1 Axes>"
            ]
          },
          "metadata": {
            "tags": []
          }
        }
      ]
    },
    {
      "cell_type": "markdown",
      "metadata": {
        "id": "zr9MISSjq3q2",
        "colab_type": "text"
      },
      "source": [
        "https://towardsdatascience.com/introduction-to-graphs-part-1-2de6cda8c5a5"
      ]
    },
    {
      "cell_type": "code",
      "metadata": {
        "id": "VriA_9cpz6aH",
        "colab_type": "code",
        "colab": {}
      },
      "source": [
        "G = nx.from_pandas_edgelist(df, \"source\", \"target\", edge_attr=True, create_using=nx.Graph())\n"
      ],
      "execution_count": null,
      "outputs": []
    }
  ]
}