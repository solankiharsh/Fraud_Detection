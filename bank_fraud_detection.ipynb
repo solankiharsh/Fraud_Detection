{
  "nbformat": 4,
  "nbformat_minor": 0,
  "metadata": {
    "colab": {
      "name": "bank_fraud_detection.ipynb",
      "provenance": [],
      "mount_file_id": "1C1Sqm0x8qyVLkj2ex-5XhMUqQ1u9AAMN",
      "authorship_tag": "ABX9TyPx3E3/u9xND2s8EW4qOaHC",
      "include_colab_link": true
    },
    "kernelspec": {
      "name": "python3",
      "display_name": "Python 3"
    }
  },
  "cells": [
    {
      "cell_type": "markdown",
      "metadata": {
        "id": "view-in-github",
        "colab_type": "text"
      },
      "source": [
        "<a href=\"https://colab.research.google.com/github/solankiharsh/Fraud_Detection/blob/master/bank_fraud_detection.ipynb\" target=\"_parent\"><img src=\"https://colab.research.google.com/assets/colab-badge.svg\" alt=\"Open In Colab\"/></a>"
      ]
    },
    {
      "cell_type": "code",
      "metadata": {
        "id": "AyZo_xsTtK6t",
        "colab_type": "code",
        "colab": {}
      },
      "source": [
        "#Import libraries\n",
        "import pandas as pd\n",
        "import numpy as np\n",
        "import matplotlib.pyplot as plt\n",
        "from sklearn.metrics import confusion_matrix, classification_report, roc_curve, roc_auc_score, auc"
      ],
      "execution_count": 1,
      "outputs": []
    },
    {
      "cell_type": "code",
      "metadata": {
        "id": "V3d91jCzEImD",
        "colab_type": "code",
        "colab": {
          "base_uri": "https://localhost:8080/",
          "height": 187
        },
        "outputId": "1a4a37a4-c643-4dcf-985a-bde005eb5a8e"
      },
      "source": [
        "#Read the data\n",
        "df = pd.read_csv('/content/drive/My Drive/Sunlife_ml/bs140513_032310.csv')\n",
        "print(df.nunique())\n",
        "\n",
        "#Drop unnecessary columns\n",
        "df = df.drop(['zipcodeOri', 'zipMerchant', 'customer'], axis = 1)\n",
        "\n",
        "\n",
        "#Clean the data\n",
        "df['age'] = df['age'].apply(lambda x: x[1]).replace('U', 7).astype(int)\n",
        "df['gender'] = df['gender'].apply(lambda x: x[1])\n",
        "df['merchant'] = df['merchant'].apply(lambda x: x[1:-1])\n",
        "df['category'] = df['category'].apply(lambda x: x[1:-1])\n",
        "\n",
        "#Feature scaling\n",
        "from sklearn.preprocessing import MinMaxScaler\n",
        "scaler = MinMaxScaler()\n",
        "df[['amount', 'fraud']] = scaler.fit_transform(df[['amount', 'fraud']])\n",
        " \n",
        "#Describe the data as features and label\n",
        "#Set the feature and class labels\n",
        "features = df.drop('fraud', axis = 1)\n",
        "label = df.fraud\n",
        "\n",
        "#One hot encoding\n",
        "features = pd.get_dummies(features)"
      ],
      "execution_count": 2,
      "outputs": [
        {
          "output_type": "stream",
          "text": [
            "customer        4112\n",
            "age                8\n",
            "gender             4\n",
            "zipcodeOri         1\n",
            "merchant          50\n",
            "zipMerchant        1\n",
            "category          15\n",
            "amount         23767\n",
            "fraud              2\n",
            "dtype: int64\n"
          ],
          "name": "stdout"
        }
      ]
    },
    {
      "cell_type": "code",
      "metadata": {
        "id": "x3iYFPhoEZJc",
        "colab_type": "code",
        "colab": {}
      },
      "source": [
        "#Splitting data into training data and testing data\n",
        "from sklearn.model_selection import train_test_split\n",
        "x_train, x_test, y_train, y_test = train_test_split(features, label, train_size = 0.8, random_state = 0)\n",
        "\n",
        "\n",
        "from sklearn import metrics"
      ],
      "execution_count": 4,
      "outputs": []
    },
    {
      "cell_type": "code",
      "metadata": {
        "id": "Dxy-4RHmtOpL",
        "colab_type": "code",
        "colab": {
          "base_uri": "https://localhost:8080/",
          "height": 1000
        },
        "outputId": "1b86c88c-34dd-454c-9e3a-a275c5d445d9"
      },
      "source": [
        "\"\"\"Logistic Regression\"\"\" \n",
        "print(\"Logistic Regression\")\n",
        "#from sklearn.model_selection import StratifiedKFold\n",
        "from sklearn.linear_model import LogisticRegression\n",
        "lr = LogisticRegression(C = 1000, class_weight = {1: 0.7, 0: 0.3}, penalty = 'l1', solver = 'liblinear')\n",
        "lr.fit(x_train, y_train)\n",
        "y_pred = lr.predict(x_test)\n",
        "#Calculating accuracy by confusion matrix\n",
        "cm = metrics.confusion_matrix(y_test, y_pred)\n",
        "print(cm)\n",
        "acc = metrics.accuracy_score(y_test, y_pred)\n",
        "print(\"Accuracy score: \", acc)\n",
        "#Creating a classification report\n",
        "cr = classification_report(y_test, y_pred)\n",
        "print(cr)\n",
        "\n",
        "#Use GridSearchCV for better estimation\n",
        "from sklearn.model_selection import GridSearchCV, RandomizedSearchCV\n",
        "penalty = ['l1', 'l2']\n",
        "C = [0.0001, 0.001, 0.01, 0.1, 1, 10, 100, 1000]\n",
        "class_weight = [{1:0.5, 0:0.5}, {1:0.4, 0:0.6}, {1:0.6, 0:0.4}, {1:0.7, 0:0.3}]\n",
        "solver = ['liblinear', 'saga']\n",
        "param_grid = dict(penalty=penalty,\n",
        "                  C=C,\n",
        "                  class_weight=class_weight,\n",
        "                  solver=solver)\n",
        "\n",
        "grid = GridSearchCV(estimator=lr,\n",
        "                    param_grid=param_grid,\n",
        "                    scoring='roc_auc',\n",
        "                    verbose=1,\n",
        "                    n_jobs=-1)\n",
        "grid_result = grid.fit(x_train, y_train)\n",
        "print('Best Score: ', grid_result.best_score_)\n",
        "print('Best Params: ', grid_result.best_params_)\n",
        "\n",
        "\n",
        "\n",
        "\n",
        "\"\"\"SGD Classifier\"\"\"\n",
        "print(\"SGD Classifier\")\n",
        "#from sklearn.model_selection import StratifiedKFold\n",
        "from sklearn.linear_model import SGDClassifier\n",
        "sgd = SGDClassifier()\n",
        "sgd.fit(x_train, y_train)\n",
        "y_pred = sgd.predict(x_test)\n",
        "#Calculating accuracy by confusion matrix\n",
        "cm = metrics.confusion_matrix(y_test, y_pred)\n",
        "print(cm)\n",
        "acc = metrics.accuracy_score(y_test, y_pred)\n",
        "print(\"Accuracy score: \", acc)\n",
        "#Creating a classification report\n",
        "cr = classification_report(y_test, y_pred)\n",
        "print(cr)\n",
        "\n",
        "\n",
        "\n",
        "\"\"\"Decision Tree Classifier\"\"\"\n",
        "print(\"Decision tree Classifier\")\n",
        "from sklearn.tree import DecisionTreeClassifier\n",
        "dtc = DecisionTreeClassifier(criterion = \"entropy\", random_state = 0)\n",
        "dtc.fit(x_train, y_train)\n",
        "#Predict for x_test\n",
        "y_pred = dtc.predict(x_test)\n",
        "#Checking accuracy of Naive Bayes\n",
        "cm = metrics.confusion_matrix(y_test, y_pred) \n",
        "print(cm)\n",
        "acc = metrics.accuracy_score(y_test, y_pred) \n",
        "print(\"Accuracy score:\",acc)\n",
        "#Creating a classification report\n",
        "cr = classification_report(y_test, y_pred)\n",
        "print(cr)"
      ],
      "execution_count": null,
      "outputs": [
        {
          "output_type": "stream",
          "text": [
            "customer        4112\n",
            "age                8\n",
            "gender             4\n",
            "zipcodeOri         1\n",
            "merchant          50\n",
            "zipMerchant        1\n",
            "category          15\n",
            "amount         23767\n",
            "fraud              2\n",
            "dtype: int64\n",
            "Logistic Regression\n",
            "[[117213    296]\n",
            " [   272   1148]]\n",
            "Accuracy score:  0.9952240412346862\n",
            "              precision    recall  f1-score   support\n",
            "\n",
            "         0.0       1.00      1.00      1.00    117509\n",
            "         1.0       0.80      0.81      0.80      1420\n",
            "\n",
            "    accuracy                           1.00    118929\n",
            "   macro avg       0.90      0.90      0.90    118929\n",
            "weighted avg       1.00      1.00      1.00    118929\n",
            "\n",
            "Fitting 5 folds for each of 128 candidates, totalling 640 fits\n"
          ],
          "name": "stdout"
        },
        {
          "output_type": "stream",
          "text": [
            "[Parallel(n_jobs=-1)]: Using backend LokyBackend with 2 concurrent workers.\n",
            "[Parallel(n_jobs=-1)]: Done  46 tasks      | elapsed:  1.2min\n",
            "[Parallel(n_jobs=-1)]: Done 196 tasks      | elapsed:  7.5min\n",
            "[Parallel(n_jobs=-1)]: Done 446 tasks      | elapsed: 76.0min\n",
            "[Parallel(n_jobs=-1)]: Done 640 out of 640 | elapsed: 146.5min finished\n"
          ],
          "name": "stderr"
        },
        {
          "output_type": "stream",
          "text": [
            "Best Score:  0.9975354852614791\n",
            "Best Params:  {'C': 1000, 'class_weight': {1: 0.7, 0: 0.3}, 'penalty': 'l1', 'solver': 'liblinear'}\n",
            "SGD Classifier\n",
            "[[117366    143]\n",
            " [   748    672]]\n",
            "Accuracy score:  0.9925081351058195\n",
            "              precision    recall  f1-score   support\n",
            "\n",
            "         0.0       0.99      1.00      1.00    117509\n",
            "         1.0       0.82      0.47      0.60      1420\n",
            "\n",
            "    accuracy                           0.99    118929\n",
            "   macro avg       0.91      0.74      0.80    118929\n",
            "weighted avg       0.99      0.99      0.99    118929\n",
            "\n",
            "Decision tree Classifier\n",
            "[[117156    353]\n",
            " [   357   1063]]\n",
            "Accuracy score: 0.9940300515433578\n",
            "              precision    recall  f1-score   support\n",
            "\n",
            "         0.0       1.00      1.00      1.00    117509\n",
            "         1.0       0.75      0.75      0.75      1420\n",
            "\n",
            "    accuracy                           0.99    118929\n",
            "   macro avg       0.87      0.87      0.87    118929\n",
            "weighted avg       0.99      0.99      0.99    118929\n",
            "\n",
            "K nearest Neighbor\n"
          ],
          "name": "stdout"
        }
      ]
    },
    {
      "cell_type": "code",
      "metadata": {
        "id": "W4o4ey6ttq4a",
        "colab_type": "code",
        "colab": {
          "base_uri": "https://localhost:8080/",
          "height": 34
        },
        "outputId": "89932a1e-c0ff-4d35-9804-d0865d7dbbab"
      },
      "source": [
        "\"\"\"KNN\"\"\"\n",
        "print(\"K nearest Neighbor\")\n",
        "#Fitting KNN classifier with L2 norm (Euclideon Distance)\n",
        "from sklearn.neighbors import KNeighborsClassifier\n",
        "\n",
        "from sklearn.model_selection import cross_val_score\n",
        "# Creating odd list K for KNN\n",
        "neighbors = list(range(1,50,2))\n",
        "# empty list that will hold cv scores\n",
        "cv_scores = [ ]\n",
        "#perform 10-fold cross-validation\n",
        "for K in neighbors:\n",
        "    knn = KNeighborsClassifier(n_neighbors = K)\n",
        "    scores = cross_val_score(knn,x_train,y_train,cv = 10,scoring = \"accuracy\")\n",
        "    cv_scores.append(scores.mean())\n",
        "# Changing to mis classification error\n",
        "mse = [1-x for x in cv_scores]\n",
        "# determing best k\n",
        "optimal_k = neighbors[mse.index(min(mse))]\n",
        "print(\"The optimal no. of neighbors is {}\".format(optimal_k))\n",
        "def plot_accuracy(knn_list_scores):\n",
        "    pd.DataFrame({\"K\":[i for i in range(1,50,2)], \"Accuracy\":knn_list_scores}).set_index(\"K\").plot.bar(figsize= (9,6),ylim=(0.78,0.83),rot=0)\n",
        "    plt.show()\n",
        "plot_accuracy(cv_scores)\n",
        "knn = KNeighborsClassifier(n_neighbors = 5, p = 2)\n",
        "knn.fit(x_train, y_train)\n",
        "#Make prediction\n",
        "y_pred = knn.predict(x_test)\n",
        "#Calculating accuracy\n",
        "cm = metrics.confusion_matrix(y_test, y_pred)\n",
        "print(cm)\n",
        "acc = metrics.accuracy_score(y_test, y_pred)\n",
        "print(\"Accuracy score: \", acc)\n",
        "#Creating a classification report\n",
        "cr = classification_report(y_test, y_pred)\n",
        "print(cr)"
      ],
      "execution_count": null,
      "outputs": [
        {
          "output_type": "stream",
          "text": [
            "K nearest Neighbor\n"
          ],
          "name": "stdout"
        }
      ]
    },
    {
      "cell_type": "code",
      "metadata": {
        "id": "uKjMPAKVEP_a",
        "colab_type": "code",
        "colab": {}
      },
      "source": [
        "\"\"\"Naive Bayes\"\"\"\n",
        "print(\"Naive Bayes\")\n",
        "#Fit the model to Naive Bayes classifier\n",
        "from sklearn.naive_bayes import GaussianNB\n",
        "nb = GaussianNB()\n",
        "nb.fit(x_train, y_train)\n",
        "#Predict values for x_test\n",
        "y_pred = nb.predict(x_test)\n",
        "#Checking accuracy of Naive Bayes\n",
        "cm = metrics.confusion_matrix(y_test, y_pred) \n",
        "print(cm)\n",
        "acc = metrics.accuracy_score(y_test, y_pred) \n",
        "print(\"Accuracy score:\",acc)\n",
        "#Creating a classification report\n",
        "cr = classification_report(y_test, y_pred)\n",
        "print(cr)"
      ],
      "execution_count": null,
      "outputs": []
    },
    {
      "cell_type": "code",
      "metadata": {
        "id": "NXGjWIaFEeWc",
        "colab_type": "code",
        "colab": {}
      },
      "source": [
        "\"\"\"Random Forest\"\"\"\n",
        "print(\"Random Forrest\")\n",
        "#Fit the Random Forrest Classification Model\n",
        "from sklearn.ensemble import RandomForestClassifier\n",
        "#from sklearn.model_selection import validation_curve\n",
        "\n",
        "#Check for AUC curve\n",
        "n_estimators = []\n",
        "for i in range(1, 40):\n",
        "    n_estimators.append(i) \n",
        "train_results = []\n",
        "test_results = []\n",
        "for estimator in n_estimators:\n",
        "   rf = RandomForestClassifier(n_estimators=estimator, n_jobs=-1)\n",
        "   rf.fit(x_train, y_train)\n",
        "   train_pred = rf.predict(x_train)\n",
        "   false_positive_rate, true_positive_rate, thresholds = roc_curve(y_train, train_pred)\n",
        "   roc_auc = auc(false_positive_rate, true_positive_rate)\n",
        "   train_results.append(roc_auc)\n",
        "   y_pred = rf.predict(x_test)\n",
        "   false_positive_rate, true_positive_rate, thresholds = roc_curve(y_test, y_pred)\n",
        "   roc_auc = auc(false_positive_rate, true_positive_rate)\n",
        "   test_results.append(roc_auc)\n",
        "from matplotlib.legend_handler import HandlerLine2D\n",
        "line1, = plt.plot(n_estimators, train_results, 'b', label='Train AUC')\n",
        "line2, = plt.plot(n_estimators, test_results, 'r', label='Test AUC')\n",
        "plt.legend(handler_map={line1: HandlerLine2D(numpoints=2)})\n",
        "plt.ylabel('AUC score')\n",
        "plt.xlabel('n_estimators')\n",
        "plt.show()\n",
        "#Best estimator = 15\n",
        "\n",
        "#Check for max_depth\n",
        "max_depths = np.linspace(1, 50, 50, endpoint=True)\n",
        "train_results = []\n",
        "test_results = []\n",
        "for max_depth in max_depths:\n",
        "   rf = RandomForestClassifier(max_depth=max_depth, n_jobs=-1)\n",
        "   rf.fit(x_train, y_train)\n",
        "   train_pred = rf.predict(x_train)\n",
        "   false_positive_rate, true_positive_rate, thresholds = roc_curve(y_train, train_pred)\n",
        "   roc_auc = auc(false_positive_rate, true_positive_rate)\n",
        "   train_results.append(roc_auc)\n",
        "   y_pred = rf.predict(x_test)\n",
        "   false_positive_rate, true_positive_rate, thresholds = roc_curve(y_test, y_pred)\n",
        "   roc_auc = auc(false_positive_rate, true_positive_rate)\n",
        "   test_results.append(roc_auc)\n",
        "from matplotlib.legend_handler import HandlerLine2D\n",
        "line1, = plt.plot(max_depths, train_results, 'b', label='Train AUC')\n",
        "line2, = plt.plot(max_depths, test_results, 'r', label='Test AUC')\n",
        "plt.legend(handler_map={line1: HandlerLine2D(numpoints=2)})\n",
        "plt.ylabel('AUC score')\n",
        "plt.xlabel('Tree depth')\n",
        "plt.show()\n",
        "#Max depth = 19\n",
        "\n",
        "from sklearn.ensemble import RandomForestClassifier\n",
        "rfc = RandomForestClassifier(n_estimators = 15, max_depth = 19, criterion = \"entropy\", random_state = 0, min_samples_split = 20)\n",
        "rfc.fit(x_train, y_train)\n",
        "#Predict for x_test\n",
        "y_pred = rfc.predict(x_test)\n",
        "#Checking accuracy of Naive Bayes\n",
        "cm = metrics.confusion_matrix(y_test, y_pred) \n",
        "print(cm)\n",
        "acc = metrics.accuracy_score(y_test, y_pred) \n",
        "print(\"Accuracy score:\",acc)\n",
        "#Creating a classification report\n",
        "cr = classification_report(y_test, y_pred)\n",
        "print(cr)"
      ],
      "execution_count": null,
      "outputs": []
    },
    {
      "cell_type": "code",
      "metadata": {
        "id": "Jfau8-JrEn8u",
        "colab_type": "code",
        "colab": {}
      },
      "source": [
        "'''\n",
        "from scipy.stats import randint as sp_randint\n",
        "# specify parameters and distributions to sample from\n",
        "param_dist = {\"max_depth\": [3, None], \"max_features\": sp_randint(1, x_train.shape[1]), \"min_samples_split\": sp_randint(2, 11), \"bootstrap\": [True, False], \"n_estimators\": sp_randint(100, 500)}\n",
        "random_search = RandomizedSearchCV(rf, param_distributions=param_dist,\n",
        "                                   n_iter=10, cv=5, iid=False, random_state=42)\n",
        "random_search.fit(x_train, y_train)\n",
        "print(random_search.best_params_)\n",
        "'''\n",
        "\n",
        "\"\"\"SVC Linear\"\"\"\n",
        "print(\"SVM with linear kernel\")\n",
        "from sklearn.svm import SVC\n",
        "svr = SVC(kernel = \"linear\", random_state = 0)\n",
        "svr.fit(x_train, y_train)\n",
        "#Making predictions\n",
        "y_pred = svr.predict(x_test)\n",
        "#Checking Accuracy for x_test\n",
        "cm = metrics.confusion_matrix(y_test, y_pred)\n",
        "print(\"Confusion Matrix: \", cm)\n",
        "acc = metrics.accuracy_score(y_test, y_pred)\n",
        "print(\"Accuracy: \", acc)\n",
        "#Creating a classification report\n",
        "cr = classification_report(y_test, y_pred)\n",
        "print(cr)"
      ],
      "execution_count": null,
      "outputs": []
    },
    {
      "cell_type": "code",
      "metadata": {
        "id": "mGBevzbLEpwP",
        "colab_type": "code",
        "colab": {}
      },
      "source": [
        "\"\"\"SVC Radial\"\"\"\n",
        "print(\"SVM with Radial function kernel\")\n",
        "#Fitting SVM model with Radial Basis Function kernel\n",
        "from sklearn.svm import SVC\n",
        "svr = SVC(kernel = \"rbf\", random_state = 0)\n",
        "svr.fit(x_train, y_train)\n",
        "#Making predictions\n",
        "y_pred = svr.predict(x_test)\n",
        "#Checking Accuracy for x_test\n",
        "cm = metrics.confusion_matrix(y_test, y_pred)\n",
        "print(\"Confusion Matrix: \", cm)\n",
        "acc = metrics.accuracy_score(y_test, y_pred)\n",
        "print(\"Accuracy: \", acc)\n",
        "#Creating a classification report\n",
        "cr = classification_report(y_test, y_pred)\n",
        "print(cr)"
      ],
      "execution_count": null,
      "outputs": []
    },
    {
      "cell_type": "code",
      "metadata": {
        "id": "oI7v--FaEwHG",
        "colab_type": "code",
        "colab": {}
      },
      "source": [
        ""
      ],
      "execution_count": null,
      "outputs": []
    }
  ]
}